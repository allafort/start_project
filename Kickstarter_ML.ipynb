{
  "nbformat": 4,
  "nbformat_minor": 0,
  "metadata": {
    "colab": {
      "name": "GA_ML.ipynb",
      "provenance": []
    },
    "kernelspec": {
      "name": "python3",
      "display_name": "Python 3"
    }
  },
  "cells": [
    {
      "cell_type": "code",
      "metadata": {
        "id": "IxaPlI_ueMCM"
      },
      "source": [
        "# Import packages\n",
        "import pandas as pd\n",
        "import numpy as np\n",
        "import scipy as sp\n",
        "import matplotlib.pyplot as plt\n",
        "import seaborn as sns\n",
        "from scipy import stats\n",
        "import datetime\n",
        "import math\n",
        "\n",
        "plt.rcParams['figure.figsize'] = [11, 8]\n",
        "\n",
        "import warnings\n",
        "warnings.simplefilter(action='ignore', category=FutureWarning)"
      ],
      "execution_count": 2,
      "outputs": []
    },
    {
      "cell_type": "code",
      "metadata": {
        "colab": {
          "base_uri": "https://localhost:8080/"
        },
        "id": "Kmo7YZxseT8C",
        "outputId": "3519a454-d42f-47ae-9706-fd5e03c3e6e5"
      },
      "source": [
        "!pip install mpld3\n",
        "import mpld3\n",
        "!pip install html2text\n",
        "import html2text"
      ],
      "execution_count": 3,
      "outputs": [
        {
          "output_type": "stream",
          "text": [
            "Collecting mpld3\n",
            "\u001b[?25l  Downloading https://files.pythonhosted.org/packages/7d/b4/f380b6d58658106870161d703972b74fc2e66317acf298f873c0816d1fb2/mpld3-0.5.2.tar.gz (888kB)\n",
            "\r\u001b[K     |▍                               | 10kB 10.4MB/s eta 0:00:01\r\u001b[K     |▊                               | 20kB 13.2MB/s eta 0:00:01\r\u001b[K     |█                               | 30kB 15.0MB/s eta 0:00:01\r\u001b[K     |█▌                              | 40kB 11.8MB/s eta 0:00:01\r\u001b[K     |█▉                              | 51kB 8.6MB/s eta 0:00:01\r\u001b[K     |██▏                             | 61kB 7.8MB/s eta 0:00:01\r\u001b[K     |██▋                             | 71kB 7.4MB/s eta 0:00:01\r\u001b[K     |███                             | 81kB 8.0MB/s eta 0:00:01\r\u001b[K     |███▎                            | 92kB 8.8MB/s eta 0:00:01\r\u001b[K     |███▊                            | 102kB 9.3MB/s eta 0:00:01\r\u001b[K     |████                            | 112kB 9.3MB/s eta 0:00:01\r\u001b[K     |████▍                           | 122kB 9.3MB/s eta 0:00:01\r\u001b[K     |████▉                           | 133kB 9.3MB/s eta 0:00:01\r\u001b[K     |█████▏                          | 143kB 9.3MB/s eta 0:00:01\r\u001b[K     |█████▌                          | 153kB 9.3MB/s eta 0:00:01\r\u001b[K     |██████                          | 163kB 9.3MB/s eta 0:00:01\r\u001b[K     |██████▎                         | 174kB 9.3MB/s eta 0:00:01\r\u001b[K     |██████▋                         | 184kB 9.3MB/s eta 0:00:01\r\u001b[K     |███████                         | 194kB 9.3MB/s eta 0:00:01\r\u001b[K     |███████▍                        | 204kB 9.3MB/s eta 0:00:01\r\u001b[K     |███████▊                        | 215kB 9.3MB/s eta 0:00:01\r\u001b[K     |████████▏                       | 225kB 9.3MB/s eta 0:00:01\r\u001b[K     |████████▌                       | 235kB 9.3MB/s eta 0:00:01\r\u001b[K     |████████▉                       | 245kB 9.3MB/s eta 0:00:01\r\u001b[K     |█████████▏                      | 256kB 9.3MB/s eta 0:00:01\r\u001b[K     |█████████▋                      | 266kB 9.3MB/s eta 0:00:01\r\u001b[K     |██████████                      | 276kB 9.3MB/s eta 0:00:01\r\u001b[K     |██████████▎                     | 286kB 9.3MB/s eta 0:00:01\r\u001b[K     |██████████▊                     | 296kB 9.3MB/s eta 0:00:01\r\u001b[K     |███████████                     | 307kB 9.3MB/s eta 0:00:01\r\u001b[K     |███████████▍                    | 317kB 9.3MB/s eta 0:00:01\r\u001b[K     |███████████▉                    | 327kB 9.3MB/s eta 0:00:01\r\u001b[K     |████████████▏                   | 337kB 9.3MB/s eta 0:00:01\r\u001b[K     |████████████▌                   | 348kB 9.3MB/s eta 0:00:01\r\u001b[K     |█████████████                   | 358kB 9.3MB/s eta 0:00:01\r\u001b[K     |█████████████▎                  | 368kB 9.3MB/s eta 0:00:01\r\u001b[K     |█████████████▋                  | 378kB 9.3MB/s eta 0:00:01\r\u001b[K     |██████████████                  | 389kB 9.3MB/s eta 0:00:01\r\u001b[K     |██████████████▍                 | 399kB 9.3MB/s eta 0:00:01\r\u001b[K     |██████████████▊                 | 409kB 9.3MB/s eta 0:00:01\r\u001b[K     |███████████████▏                | 419kB 9.3MB/s eta 0:00:01\r\u001b[K     |███████████████▌                | 430kB 9.3MB/s eta 0:00:01\r\u001b[K     |███████████████▉                | 440kB 9.3MB/s eta 0:00:01\r\u001b[K     |████████████████▎               | 450kB 9.3MB/s eta 0:00:01\r\u001b[K     |████████████████▋               | 460kB 9.3MB/s eta 0:00:01\r\u001b[K     |█████████████████               | 471kB 9.3MB/s eta 0:00:01\r\u001b[K     |█████████████████▎              | 481kB 9.3MB/s eta 0:00:01\r\u001b[K     |█████████████████▊              | 491kB 9.3MB/s eta 0:00:01\r\u001b[K     |██████████████████              | 501kB 9.3MB/s eta 0:00:01\r\u001b[K     |██████████████████▍             | 512kB 9.3MB/s eta 0:00:01\r\u001b[K     |██████████████████▉             | 522kB 9.3MB/s eta 0:00:01\r\u001b[K     |███████████████████▏            | 532kB 9.3MB/s eta 0:00:01\r\u001b[K     |███████████████████▌            | 542kB 9.3MB/s eta 0:00:01\r\u001b[K     |████████████████████            | 552kB 9.3MB/s eta 0:00:01\r\u001b[K     |████████████████████▎           | 563kB 9.3MB/s eta 0:00:01\r\u001b[K     |████████████████████▋           | 573kB 9.3MB/s eta 0:00:01\r\u001b[K     |█████████████████████           | 583kB 9.3MB/s eta 0:00:01\r\u001b[K     |█████████████████████▍          | 593kB 9.3MB/s eta 0:00:01\r\u001b[K     |█████████████████████▊          | 604kB 9.3MB/s eta 0:00:01\r\u001b[K     |██████████████████████▏         | 614kB 9.3MB/s eta 0:00:01\r\u001b[K     |██████████████████████▌         | 624kB 9.3MB/s eta 0:00:01\r\u001b[K     |██████████████████████▉         | 634kB 9.3MB/s eta 0:00:01\r\u001b[K     |███████████████████████▎        | 645kB 9.3MB/s eta 0:00:01\r\u001b[K     |███████████████████████▋        | 655kB 9.3MB/s eta 0:00:01\r\u001b[K     |████████████████████████        | 665kB 9.3MB/s eta 0:00:01\r\u001b[K     |████████████████████████▍       | 675kB 9.3MB/s eta 0:00:01\r\u001b[K     |████████████████████████▊       | 686kB 9.3MB/s eta 0:00:01\r\u001b[K     |█████████████████████████       | 696kB 9.3MB/s eta 0:00:01\r\u001b[K     |█████████████████████████▍      | 706kB 9.3MB/s eta 0:00:01\r\u001b[K     |█████████████████████████▉      | 716kB 9.3MB/s eta 0:00:01\r\u001b[K     |██████████████████████████▏     | 727kB 9.3MB/s eta 0:00:01\r\u001b[K     |██████████████████████████▌     | 737kB 9.3MB/s eta 0:00:01\r\u001b[K     |███████████████████████████     | 747kB 9.3MB/s eta 0:00:01\r\u001b[K     |███████████████████████████▎    | 757kB 9.3MB/s eta 0:00:01\r\u001b[K     |███████████████████████████▋    | 768kB 9.3MB/s eta 0:00:01\r\u001b[K     |████████████████████████████    | 778kB 9.3MB/s eta 0:00:01\r\u001b[K     |████████████████████████████▍   | 788kB 9.3MB/s eta 0:00:01\r\u001b[K     |████████████████████████████▊   | 798kB 9.3MB/s eta 0:00:01\r\u001b[K     |█████████████████████████████▏  | 808kB 9.3MB/s eta 0:00:01\r\u001b[K     |█████████████████████████████▌  | 819kB 9.3MB/s eta 0:00:01\r\u001b[K     |█████████████████████████████▉  | 829kB 9.3MB/s eta 0:00:01\r\u001b[K     |██████████████████████████████▎ | 839kB 9.3MB/s eta 0:00:01\r\u001b[K     |██████████████████████████████▋ | 849kB 9.3MB/s eta 0:00:01\r\u001b[K     |███████████████████████████████ | 860kB 9.3MB/s eta 0:00:01\r\u001b[K     |███████████████████████████████▍| 870kB 9.3MB/s eta 0:00:01\r\u001b[K     |███████████████████████████████▊| 880kB 9.3MB/s eta 0:00:01\r\u001b[K     |████████████████████████████████| 890kB 9.3MB/s \n",
            "\u001b[?25hRequirement already satisfied: jinja2 in /usr/local/lib/python3.6/dist-packages (from mpld3) (2.11.2)\n",
            "Requirement already satisfied: matplotlib in /usr/local/lib/python3.6/dist-packages (from mpld3) (3.2.2)\n",
            "Requirement already satisfied: MarkupSafe>=0.23 in /usr/local/lib/python3.6/dist-packages (from jinja2->mpld3) (1.1.1)\n",
            "Requirement already satisfied: cycler>=0.10 in /usr/local/lib/python3.6/dist-packages (from matplotlib->mpld3) (0.10.0)\n",
            "Requirement already satisfied: kiwisolver>=1.0.1 in /usr/local/lib/python3.6/dist-packages (from matplotlib->mpld3) (1.3.1)\n",
            "Requirement already satisfied: python-dateutil>=2.1 in /usr/local/lib/python3.6/dist-packages (from matplotlib->mpld3) (2.8.1)\n",
            "Requirement already satisfied: pyparsing!=2.0.4,!=2.1.2,!=2.1.6,>=2.0.1 in /usr/local/lib/python3.6/dist-packages (from matplotlib->mpld3) (2.4.7)\n",
            "Requirement already satisfied: numpy>=1.11 in /usr/local/lib/python3.6/dist-packages (from matplotlib->mpld3) (1.19.5)\n",
            "Requirement already satisfied: six in /usr/local/lib/python3.6/dist-packages (from cycler>=0.10->matplotlib->mpld3) (1.15.0)\n",
            "Building wheels for collected packages: mpld3\n",
            "  Building wheel for mpld3 (setup.py) ... \u001b[?25l\u001b[?25hdone\n",
            "  Created wheel for mpld3: filename=mpld3-0.5.2-cp36-none-any.whl size=200618 sha256=9a9d47735ee2d6cf91ff94ac9eaf23e5b81076b44a56a5ee1f27079ce19ecbec\n",
            "  Stored in directory: /root/.cache/pip/wheels/21/73/06/ea4b85609301850b1289a282852d92e22fcbf7a250ed5f547f\n",
            "Successfully built mpld3\n",
            "Installing collected packages: mpld3\n",
            "Successfully installed mpld3-0.5.2\n",
            "Collecting html2text\n",
            "  Downloading https://files.pythonhosted.org/packages/ae/88/14655f727f66b3e3199f4467bafcc88283e6c31b562686bf606264e09181/html2text-2020.1.16-py3-none-any.whl\n",
            "Installing collected packages: html2text\n",
            "Successfully installed html2text-2020.1.16\n"
          ],
          "name": "stdout"
        }
      ]
    },
    {
      "cell_type": "code",
      "metadata": {
        "id": "urC4xj6-eUOO"
      },
      "source": [
        "ks_file = '/content/drive/MyDrive/Colab Notebooks/DSI_kickstarterscrape_dataset.csv'\n",
        "ks = pd.read_csv(ks_file,encoding = \"ISO-8859-1\",parse_dates=['funded date'])"
      ],
      "execution_count": 148,
      "outputs": []
    },
    {
      "cell_type": "code",
      "metadata": {
        "colab": {
          "base_uri": "https://localhost:8080/"
        },
        "id": "ear5qrkJp4Iy",
        "outputId": "16b5e153-a096-42ae-dbdb-06eb2bbf70b7"
      },
      "source": [
        "ks = ks.dropna(subset=['pledged'])\n",
        "print('Mean pledge per project ${}'.format(int(ks.pledged.mean())))\n"
      ],
      "execution_count": 149,
      "outputs": [
        {
          "output_type": "stream",
          "text": [
            "Mean pledge per project $4980\n"
          ],
          "name": "stdout"
        }
      ]
    },
    {
      "cell_type": "code",
      "metadata": {
        "id": "Z-bXx_Aveajm"
      },
      "source": [
        "ks= ks.rename(columns={'funded date': 'launched'})\n",
        "ks = ks.dropna(subset=['pledged'])\n",
        "ks = ks.loc[ks['status'].isin(['successful','failed'])]\n",
        "\n",
        "ks = ks.drop(columns=['project id', 'url','subcategory','location','reward levels'])\n"
      ],
      "execution_count": 156,
      "outputs": []
    },
    {
      "cell_type": "code",
      "metadata": {
        "id": "g9MheuGSI-Mh"
      },
      "source": [
        "for c in ['name','category']:\n",
        "  ks[c] = ks[c].apply(lambda s: html2text.html2text(s).rstrip())\n"
      ],
      "execution_count": 157,
      "outputs": []
    },
    {
      "cell_type": "code",
      "metadata": {
        "id": "G3PUkrBBgGDb"
      },
      "source": [
        "ks[\"status\"] = ks[\"status\"].replace({'failed':0, 'successful':1})\n",
        "\n",
        "ks = ks.assign(hour=ks.launched.dt.hour,\n",
        "               doy =ks.launched.dt.dayofyear,\n",
        "               day=ks.launched.dt.weekday,\n",
        "               weekend = ks.launched.dt.weekday.apply(lambda x: 1 if x > 4 else 0),\n",
        "               month=ks.launched.dt.month,\n",
        "               year=ks.launched.dt.year,\n",
        "               name_length = ks.name.apply(lambda s: len(s.replace(\" \",\"\")))\n",
        "               )\n",
        "ks['fraction_goal']= ks.pledged/ks.goal"
      ],
      "execution_count": 158,
      "outputs": []
    },
    {
      "cell_type": "code",
      "metadata": {
        "id": "r1iuFG0GfmGY"
      },
      "source": [
        "from pandas.tseries.holiday import USFederalHolidayCalendar\n",
        "cal = USFederalHolidayCalendar()\n",
        "holidays = cal.holidays(start='2008-01-01', end='2012-12-31').to_pydatetime()\n",
        "def is_holidays(d):\n",
        "  date=datetime.datetime(d.year,d.month,d.day)\n",
        "  if date in holidays: return 1\n",
        "  else: return 0 \n",
        "ks['holidays']=ks.launched.apply(is_holidays)"
      ],
      "execution_count": 159,
      "outputs": []
    },
    {
      "cell_type": "markdown",
      "metadata": {
        "id": "sIPH9jf21TXH"
      },
      "source": [
        ""
      ]
    },
    {
      "cell_type": "code",
      "metadata": {
        "colab": {
          "base_uri": "https://localhost:8080/"
        },
        "id": "g9KCwas0Q94O",
        "outputId": "d0b570f7-8484-47ae-a5c0-d65f8e3a243c"
      },
      "source": [
        "print('number of projects',len(ks.index))\n",
        "print('success rate',len(ks[ks.status==1].index)/len(ks.index))\n",
        "print(len(ks.category.unique()),'different categories')\n"
      ],
      "execution_count": 160,
      "outputs": [
        {
          "output_type": "stream",
          "text": [
            "number of projects 41965\n",
            "success rate 0.5473370666031216\n",
            "13 different categories\n"
          ],
          "name": "stdout"
        }
      ]
    },
    {
      "cell_type": "code",
      "metadata": {
        "colab": {
          "base_uri": "https://localhost:8080/"
        },
        "id": "YVoVDvdOpj_Z",
        "outputId": "240cbec3-ffbd-4dc5-a736-660b50540086"
      },
      "source": [
        "print('Mean pledge per project ${}'.format(int(ks.pledged.mean())))"
      ],
      "execution_count": 161,
      "outputs": [
        {
          "output_type": "stream",
          "text": [
            "Mean pledge per project $5123\n"
          ],
          "name": "stdout"
        }
      ]
    },
    {
      "cell_type": "code",
      "metadata": {
        "id": "CwAjBVLJefYL"
      },
      "source": [
        "def succ_frac(df):\n",
        "  all = len(df.index)\n",
        "  succ = len(df[df.status==1].index)\n",
        "  if all != 0: frac=succ/all\n",
        "  if all==0: frac =1e-10\n",
        "  return frac"
      ],
      "execution_count": null,
      "outputs": []
    },
    {
      "cell_type": "markdown",
      "metadata": {
        "id": "3kFOtLoSegJo"
      },
      "source": [
        "### Category"
      ]
    },
    {
      "cell_type": "code",
      "metadata": {
        "colab": {
          "base_uri": "https://localhost:8080/",
          "height": 452
        },
        "id": "wVtt5n5O1Tnf",
        "outputId": "99da53df-b08f-4a39-9b85-bc5a215bd556"
      },
      "source": [
        "cats = pd.concat([ks.category.value_counts().to_frame(),ks[ks.status==1].category.value_counts().to_frame().rename(columns={'category': 'funded'})],axis=1)\n",
        "cats['fraction'] = cats.funded/cats.category\n",
        "cats.sort_values('fraction')"
      ],
      "execution_count": 10,
      "outputs": [
        {
          "output_type": "execute_result",
          "data": {
            "text/html": [
              "<div>\n",
              "<style scoped>\n",
              "    .dataframe tbody tr th:only-of-type {\n",
              "        vertical-align: middle;\n",
              "    }\n",
              "\n",
              "    .dataframe tbody tr th {\n",
              "        vertical-align: top;\n",
              "    }\n",
              "\n",
              "    .dataframe thead th {\n",
              "        text-align: right;\n",
              "    }\n",
              "</style>\n",
              "<table border=\"1\" class=\"dataframe\">\n",
              "  <thead>\n",
              "    <tr style=\"text-align: right;\">\n",
              "      <th></th>\n",
              "      <th>category</th>\n",
              "      <th>funded</th>\n",
              "      <th>fraction</th>\n",
              "    </tr>\n",
              "  </thead>\n",
              "  <tbody>\n",
              "    <tr>\n",
              "      <th>Fashion</th>\n",
              "      <td>1019</td>\n",
              "      <td>335</td>\n",
              "      <td>0.328754</td>\n",
              "    </tr>\n",
              "    <tr>\n",
              "      <th>Technology</th>\n",
              "      <td>737</td>\n",
              "      <td>289</td>\n",
              "      <td>0.392130</td>\n",
              "    </tr>\n",
              "    <tr>\n",
              "      <th>Publishing</th>\n",
              "      <td>4155</td>\n",
              "      <td>1671</td>\n",
              "      <td>0.402166</td>\n",
              "    </tr>\n",
              "    <tr>\n",
              "      <th>Games</th>\n",
              "      <td>1467</td>\n",
              "      <td>635</td>\n",
              "      <td>0.432856</td>\n",
              "    </tr>\n",
              "    <tr>\n",
              "      <th>Photography</th>\n",
              "      <td>1387</td>\n",
              "      <td>645</td>\n",
              "      <td>0.465032</td>\n",
              "    </tr>\n",
              "    <tr>\n",
              "      <th>Design</th>\n",
              "      <td>1566</td>\n",
              "      <td>729</td>\n",
              "      <td>0.465517</td>\n",
              "    </tr>\n",
              "    <tr>\n",
              "      <th>Food</th>\n",
              "      <td>1298</td>\n",
              "      <td>655</td>\n",
              "      <td>0.504622</td>\n",
              "    </tr>\n",
              "    <tr>\n",
              "      <th>Film &amp; Video</th>\n",
              "      <td>12595</td>\n",
              "      <td>6423</td>\n",
              "      <td>0.509964</td>\n",
              "    </tr>\n",
              "    <tr>\n",
              "      <th>Comics</th>\n",
              "      <td>968</td>\n",
              "      <td>520</td>\n",
              "      <td>0.537190</td>\n",
              "    </tr>\n",
              "    <tr>\n",
              "      <th>Art</th>\n",
              "      <td>3691</td>\n",
              "      <td>2106</td>\n",
              "      <td>0.570577</td>\n",
              "    </tr>\n",
              "    <tr>\n",
              "      <th>Music</th>\n",
              "      <td>10053</td>\n",
              "      <td>6792</td>\n",
              "      <td>0.675619</td>\n",
              "    </tr>\n",
              "    <tr>\n",
              "      <th>Theater</th>\n",
              "      <td>2322</td>\n",
              "      <td>1642</td>\n",
              "      <td>0.707149</td>\n",
              "    </tr>\n",
              "    <tr>\n",
              "      <th>Dance</th>\n",
              "      <td>707</td>\n",
              "      <td>527</td>\n",
              "      <td>0.745403</td>\n",
              "    </tr>\n",
              "  </tbody>\n",
              "</table>\n",
              "</div>"
            ],
            "text/plain": [
              "              category  funded  fraction\n",
              "Fashion           1019     335  0.328754\n",
              "Technology         737     289  0.392130\n",
              "Publishing        4155    1671  0.402166\n",
              "Games             1467     635  0.432856\n",
              "Photography       1387     645  0.465032\n",
              "Design            1566     729  0.465517\n",
              "Food              1298     655  0.504622\n",
              "Film & Video     12595    6423  0.509964\n",
              "Comics             968     520  0.537190\n",
              "Art               3691    2106  0.570577\n",
              "Music            10053    6792  0.675619\n",
              "Theater           2322    1642  0.707149\n",
              "Dance              707     527  0.745403"
            ]
          },
          "metadata": {
            "tags": []
          },
          "execution_count": 10
        }
      ]
    },
    {
      "cell_type": "code",
      "metadata": {
        "colab": {
          "base_uri": "https://localhost:8080/",
          "height": 529
        },
        "id": "RuJZpheWUq1L",
        "outputId": "f1c872e3-4ecc-46af-cee3-e4c9b60444db"
      },
      "source": [
        "_, ax = plt.subplots()\n",
        "cats.category.plot(kind='bar', ax=ax,label='All projects')\n",
        "cats.funded.plot(kind='bar', ax=ax,color='lightgreen',label='Funded projects')\n",
        "plt.title('Kickstarter projects per category')\n",
        "plt.legend()\n",
        "plt.xticks(rotation=30)\n",
        "\n",
        "plt.show()"
      ],
      "execution_count": 11,
      "outputs": [
        {
          "output_type": "display_data",
          "data": {
            "image/png": "[encoded data removed]",
            "text/plain": [
              "<Figure size 792x576 with 1 Axes>"
            ]
          },
          "metadata": {
            "tags": [],
            "needs_background": "light"
          }
        }
      ]
    },
    {
      "cell_type": "code",
      "metadata": {
        "colab": {
          "base_uri": "https://localhost:8080/",
          "height": 420
        },
        "id": "ER99iCMXLwly",
        "outputId": "4ef0d204-9e65-4037-be7b-b1b879d4d6f4"
      },
      "source": [
        "fig, ax = plt.subplots(figsize=(8,6))\n",
        "cats.fraction.sort_values(ascending=False).plot(kind='bar',color='orange',label='Success fraction')\n",
        "plt.title('Success rate')\n",
        "plt.xticks(rotation=30)\n",
        "plt.show()\n",
        "\n"
      ],
      "execution_count": 62,
      "outputs": [
        {
          "output_type": "display_data",
          "data": {
            "image/png": "[encoded data removed]",
            "text/plain": [
              "<Figure size 576x432 with 1 Axes>"
            ]
          },
          "metadata": {
            "tags": [],
            "needs_background": "light"
          }
        }
      ]
    },
    {
      "cell_type": "code",
      "metadata": {
        "colab": {
          "base_uri": "https://localhost:8080/"
        },
        "id": "IoYS2Hjyk3dj",
        "outputId": "c5966f02-d6ea-4c58-ea28-30f83bdc8374"
      },
      "source": [
        "n,P=500,0.75\n",
        "std = math.sqrt( n * P * ( 1 - P ) )\n",
        "print(std)\n",
        "#error on the average P based n trials is std / n"
      ],
      "execution_count": 64,
      "outputs": [
        {
          "output_type": "stream",
          "text": [
            "9.682458365518542\n"
          ],
          "name": "stdout"
        }
      ]
    },
    {
      "cell_type": "markdown",
      "metadata": {
        "id": "FjURpgyiepXJ"
      },
      "source": [
        "### Duration"
      ]
    },
    {
      "cell_type": "code",
      "metadata": {
        "colab": {
          "base_uri": "https://localhost:8080/"
        },
        "id": "jJGlSDa-fGXz",
        "outputId": "f727ad5f-8de5-4855-cbf7-5874726ca34d"
      },
      "source": [
        "bins=np.linspace(0,90,4)+0.1\n",
        "bins"
      ],
      "execution_count": 56,
      "outputs": [
        {
          "output_type": "execute_result",
          "data": {
            "text/plain": [
              "array([ 0.1, 30.1, 60.1, 90.1])"
            ]
          },
          "metadata": {
            "tags": []
          },
          "execution_count": 56
        }
      ]
    },
    {
      "cell_type": "code",
      "metadata": {
        "colab": {
          "base_uri": "https://localhost:8080/"
        },
        "id": "fKDcDHFHhIlN",
        "outputId": "e80deb62-e2ef-4acb-ab80-871a63b37f20"
      },
      "source": [
        "frac = []\n",
        "for i in range(len(bins)-1):\n",
        "  all = len(ks[(ks.duration>bins[i])&(ks.duration<=bins[i+1])].index)\n",
        "  suc = len(ks[(ks.duration>bins[i])&(ks.duration<=bins[i+1])&(ks.status==1)].index)\n",
        "  frac.append(suc/all)\n",
        "  print(bins[i],bins[i+1],suc/all,all)"
      ],
      "execution_count": 57,
      "outputs": [
        {
          "output_type": "stream",
          "text": [
            "0.1 30.1 0.5827785895978784 18477\n",
            "30.1 60.1 0.5346560164905952 19405\n",
            "60.1 90.1 0.4566160520607375 3688\n"
          ],
          "name": "stdout"
        }
      ]
    },
    {
      "cell_type": "code",
      "metadata": {
        "colab": {
          "base_uri": "https://localhost:8080/"
        },
        "id": "CG9JhYacIxXc",
        "outputId": "dea9cd21-7278-401f-e181-2980578ae565"
      },
      "source": [
        "bins=np.linspace(0,90,7)+0.1\n",
        "frac = []\n",
        "for i in range(len(bins)-1):\n",
        "  all = len(ks[(ks.duration>bins[i])&(ks.duration<=bins[i+1])].index)\n",
        "  suc = len(ks[(ks.duration>bins[i])&(ks.duration<=bins[i+1])&(ks.status==1)].index)\n",
        "  frac.append(suc/all)\n",
        "  print(bins[i],bins[i+1],suc/all,all)"
      ],
      "execution_count": 54,
      "outputs": [
        {
          "output_type": "stream",
          "text": [
            "0.1 15.1 0.6616586538461539 1664\n",
            "15.1 30.1 0.5749717480521025 16813\n",
            "30.1 45.1 0.5846689895470383 11480\n",
            "45.1 60.1 0.4622082018927445 7925\n",
            "60.1 75.1 0.5165562913907285 1661\n",
            "75.1 90.1 0.407498766650222 2027\n"
          ],
          "name": "stdout"
        }
      ]
    },
    {
      "cell_type": "code",
      "metadata": {
        "colab": {
          "base_uri": "https://localhost:8080/",
          "height": 513
        },
        "id": "lvjbAX6Iesgh",
        "outputId": "78b9e9a7-0fb4-48bb-9177-0d79762d43b0"
      },
      "source": [
        "#bins=30\n",
        "\n",
        "fig, ax = plt.subplots(figsize=(12,8))\n",
        "\n",
        "ax.hist(ks.duration,bins=bins)\n",
        "\n",
        "for i,rect in enumerate(ax.patches):\n",
        "    height = rect.get_height()\n",
        "    ax.annotate('{:.0f}%'.format(frac[i]*100), xy=(rect.get_x()+rect.get_width()/2, height), \n",
        "                xytext=(0, 5), textcoords='offset points', ha='center', va='bottom') \n",
        "    \n",
        "\n",
        "plt.hist(ks[ks.status==1].duration,bins=bins,color='lightgreen',label='Funded projects')\n",
        "plt.xticks(np.linspace(0,90,7))\n",
        "plt.legend()\n",
        "plt.title('Kickstarter projects success rate relative to duration of campaign')\n",
        "plt.xlabel('Duration of campaign in days')\n",
        "plt.ylabel('Number of projects')\n",
        "plt.show()"
      ],
      "execution_count": 58,
      "outputs": [
        {
          "output_type": "display_data",
          "data": {
            "image/png": "[encoded data removed]",
            "text/plain": [
              "<Figure size 864x576 with 1 Axes>"
            ]
          },
          "metadata": {
            "tags": [],
            "needs_background": "light"
          }
        }
      ]
    },
    {
      "cell_type": "code",
      "metadata": {
        "id": "yc_nXjCsigJ1"
      },
      "source": [
        ""
      ],
      "execution_count": 64,
      "outputs": []
    },
    {
      "cell_type": "code",
      "metadata": {
        "id": "4UvWr0igDGnq"
      },
      "source": [
        ""
      ],
      "execution_count": 92,
      "outputs": []
    },
    {
      "cell_type": "markdown",
      "metadata": {
        "id": "XAJTuvlROQYo"
      },
      "source": [
        "### Goal"
      ]
    },
    {
      "cell_type": "code",
      "metadata": {
        "id": "KIGL3lqbXyNT"
      },
      "source": [
        ""
      ],
      "execution_count": 103,
      "outputs": []
    },
    {
      "cell_type": "code",
      "metadata": {
        "id": "aFvtcJzNTjml"
      },
      "source": [
        "ks[ks.status==1].sort_values('goal',ascending=False).head(10)"
      ],
      "execution_count": null,
      "outputs": []
    },
    {
      "cell_type": "code",
      "metadata": {
        "colab": {
          "base_uri": "https://localhost:8080/"
        },
        "id": "uvLH8Ad2OPKB",
        "outputId": "07abcb7f-e63c-4981-c5af-d72da90887a4"
      },
      "source": [
        "frac_=[]\n",
        "b_ = np.logspace(1,7,20)\n",
        "for i in range(len(b_)-1):\n",
        "  print(b_[i],succ_frac(ks[(ks.goal>b_[i])&(ks.goal<=b_[i+1])]))\n",
        "  frac_.append(succ_frac(ks[(ks.goal>b_[i])&(ks.goal<=b_[i+1])]))\n"
      ],
      "execution_count": 108,
      "outputs": [
        {
          "output_type": "stream",
          "text": [
            "10.0 0.8823529411764706\n",
            "20.6913808111479 0.8285714285714286\n",
            "42.81332398719393 0.8253968253968254\n",
            "88.58667904100822 0.6782608695652174\n",
            "183.29807108324357 0.7146042363433668\n",
            "379.26901907322497 0.7093297406534187\n",
            "784.7599703514607 0.6675274370561652\n",
            "1623.776739188721 0.6332077195386548\n",
            "3359.818286283781 0.5421925524147283\n",
            "6951.927961775606 0.46222095020034343\n",
            "14384.498882876629 0.34900176901693203\n",
            "29763.51441631313 0.23158593231585933\n",
            "61584.82110660255 0.14767932489451477\n",
            "127427.49857031321 0.06\n",
            "263665.08987303555 0.09230769230769231\n",
            "545559.4781168514 0.07692307692307693\n",
            "1128837.8916846884 0.0\n",
            "2335721.4690901213 0.0\n",
            "4832930.238571752 1e-10\n"
          ],
          "name": "stdout"
        }
      ]
    },
    {
      "cell_type": "code",
      "metadata": {
        "colab": {
          "base_uri": "https://localhost:8080/",
          "height": 0
        },
        "id": "O7aosCm1Px24",
        "outputId": "94e00810-93f1-43f5-cec4-ba7a994d9dfa"
      },
      "source": [
        "\n",
        "fig, ax = plt.subplots(figsize=(12,8))\n",
        "\n",
        "ax.hist(ks.goal,bins=b_)\n",
        "\n",
        "for i,rect in enumerate(ax.patches[:-2]):\n",
        "    height = rect.get_height()\n",
        "    ax.annotate('{:.0f}%'.format(frac_[i]*100), xy=(rect.get_x()+rect.get_width()/2, height), \n",
        "                xytext=(0, 5), textcoords='offset points', ha='center', va='bottom') \n",
        "\n",
        "\n",
        "plt.hist(ks[ks.status==1].goal,bins=b_,color='lightgreen',label='Funded projects')\n",
        "plt.xscale('log')\n",
        "plt.xlabel('Pledge Goal $ (log scale)')\n",
        "plt.ylabel('Number of projects')\n",
        "plt.title('Kickstarter projects success rate relative to pledge goal')\n",
        "plt.show()"
      ],
      "execution_count": 109,
      "outputs": [
        {
          "output_type": "display_data",
          "data": {
            "image/png": "[encoded data removed]",
            "text/plain": [
              "<Figure size 864x576 with 1 Axes>"
            ]
          },
          "metadata": {
            "tags": [],
            "needs_background": "light"
          }
        }
      ]
    },
    {
      "cell_type": "markdown",
      "metadata": {
        "id": "V62VZkX1es-4"
      },
      "source": [
        "## Month, day, hours"
      ]
    },
    {
      "cell_type": "code",
      "metadata": {
        "colab": {
          "base_uri": "https://localhost:8080/"
        },
        "id": "4hFPKnaKdAnK",
        "outputId": "70a654ed-683c-4ec3-c5b3-e89df1f9f395"
      },
      "source": [
        "succ_frac(ks)"
      ],
      "execution_count": 120,
      "outputs": [
        {
          "output_type": "execute_result",
          "data": {
            "text/plain": [
              "0.5473370666031216"
            ]
          },
          "metadata": {
            "tags": []
          },
          "execution_count": 120
        }
      ]
    },
    {
      "cell_type": "code",
      "metadata": {
        "colab": {
          "base_uri": "https://localhost:8080/",
          "height": 450
        },
        "id": "qqSR68GudLSI",
        "outputId": "1ad7600a-d8f0-4b2b-f808-a8ae709c6f03"
      },
      "source": [
        "ks.groupby(ks.doy).sum()"
      ],
      "execution_count": 162,
      "outputs": [
        {
          "output_type": "execute_result",
          "data": {
            "text/html": [
              "<div>\n",
              "<style scoped>\n",
              "    .dataframe tbody tr th:only-of-type {\n",
              "        vertical-align: middle;\n",
              "    }\n",
              "\n",
              "    .dataframe tbody tr th {\n",
              "        vertical-align: top;\n",
              "    }\n",
              "\n",
              "    .dataframe thead th {\n",
              "        text-align: right;\n",
              "    }\n",
              "</style>\n",
              "<table border=\"1\" class=\"dataframe\">\n",
              "  <thead>\n",
              "    <tr style=\"text-align: right;\">\n",
              "      <th></th>\n",
              "      <th>status</th>\n",
              "      <th>goal</th>\n",
              "      <th>pledged</th>\n",
              "      <th>funded percentage</th>\n",
              "      <th>backers</th>\n",
              "      <th>levels</th>\n",
              "      <th>updates</th>\n",
              "      <th>comments</th>\n",
              "      <th>duration</th>\n",
              "      <th>p</th>\n",
              "      <th>hour</th>\n",
              "      <th>day</th>\n",
              "      <th>weekend</th>\n",
              "      <th>month</th>\n",
              "      <th>year</th>\n",
              "      <th>name_length</th>\n",
              "      <th>fraction_goal</th>\n",
              "      <th>holidays</th>\n",
              "    </tr>\n",
              "    <tr>\n",
              "      <th>doy</th>\n",
              "      <th></th>\n",
              "      <th></th>\n",
              "      <th></th>\n",
              "      <th></th>\n",
              "      <th></th>\n",
              "      <th></th>\n",
              "      <th></th>\n",
              "      <th></th>\n",
              "      <th></th>\n",
              "      <th></th>\n",
              "      <th></th>\n",
              "      <th></th>\n",
              "      <th></th>\n",
              "      <th></th>\n",
              "      <th></th>\n",
              "      <th></th>\n",
              "      <th></th>\n",
              "      <th></th>\n",
              "    </tr>\n",
              "  </thead>\n",
              "  <tbody>\n",
              "    <tr>\n",
              "      <th>1</th>\n",
              "      <td>174</td>\n",
              "      <td>2960249.00</td>\n",
              "      <td>1616925.0</td>\n",
              "      <td>281.239408</td>\n",
              "      <td>19980</td>\n",
              "      <td>2489</td>\n",
              "      <td>1362</td>\n",
              "      <td>1722</td>\n",
              "      <td>13564.94</td>\n",
              "      <td>313</td>\n",
              "      <td>2548</td>\n",
              "      <td>1709</td>\n",
              "      <td>284</td>\n",
              "      <td>313</td>\n",
              "      <td>629587</td>\n",
              "      <td>9875</td>\n",
              "      <td>281.239159</td>\n",
              "      <td>29</td>\n",
              "    </tr>\n",
              "    <tr>\n",
              "      <th>2</th>\n",
              "      <td>73</td>\n",
              "      <td>1794146.11</td>\n",
              "      <td>639998.0</td>\n",
              "      <td>99.811631</td>\n",
              "      <td>7755</td>\n",
              "      <td>1172</td>\n",
              "      <td>668</td>\n",
              "      <td>669</td>\n",
              "      <td>5953.05</td>\n",
              "      <td>133</td>\n",
              "      <td>1313</td>\n",
              "      <td>270</td>\n",
              "      <td>46</td>\n",
              "      <td>133</td>\n",
              "      <td>267544</td>\n",
              "      <td>4191</td>\n",
              "      <td>99.804778</td>\n",
              "      <td>87</td>\n",
              "    </tr>\n",
              "    <tr>\n",
              "      <th>3</th>\n",
              "      <td>62</td>\n",
              "      <td>1132991.24</td>\n",
              "      <td>919392.0</td>\n",
              "      <td>99.938751</td>\n",
              "      <td>9138</td>\n",
              "      <td>834</td>\n",
              "      <td>488</td>\n",
              "      <td>591</td>\n",
              "      <td>4558.89</td>\n",
              "      <td>100</td>\n",
              "      <td>1090</td>\n",
              "      <td>93</td>\n",
              "      <td>5</td>\n",
              "      <td>100</td>\n",
              "      <td>201158</td>\n",
              "      <td>3107</td>\n",
              "      <td>99.938928</td>\n",
              "      <td>0</td>\n",
              "    </tr>\n",
              "    <tr>\n",
              "      <th>4</th>\n",
              "      <td>44</td>\n",
              "      <td>484362.00</td>\n",
              "      <td>261854.0</td>\n",
              "      <td>62.555996</td>\n",
              "      <td>3651</td>\n",
              "      <td>661</td>\n",
              "      <td>312</td>\n",
              "      <td>221</td>\n",
              "      <td>3576.10</td>\n",
              "      <td>86</td>\n",
              "      <td>874</td>\n",
              "      <td>139</td>\n",
              "      <td>0</td>\n",
              "      <td>86</td>\n",
              "      <td>172999</td>\n",
              "      <td>2628</td>\n",
              "      <td>62.556205</td>\n",
              "      <td>0</td>\n",
              "    </tr>\n",
              "    <tr>\n",
              "      <th>5</th>\n",
              "      <td>55</td>\n",
              "      <td>521205.47</td>\n",
              "      <td>274061.0</td>\n",
              "      <td>73.858623</td>\n",
              "      <td>3649</td>\n",
              "      <td>689</td>\n",
              "      <td>306</td>\n",
              "      <td>344</td>\n",
              "      <td>3668.75</td>\n",
              "      <td>93</td>\n",
              "      <td>1006</td>\n",
              "      <td>230</td>\n",
              "      <td>0</td>\n",
              "      <td>93</td>\n",
              "      <td>187067</td>\n",
              "      <td>2890</td>\n",
              "      <td>73.868285</td>\n",
              "      <td>0</td>\n",
              "    </tr>\n",
              "    <tr>\n",
              "      <th>...</th>\n",
              "      <td>...</td>\n",
              "      <td>...</td>\n",
              "      <td>...</td>\n",
              "      <td>...</td>\n",
              "      <td>...</td>\n",
              "      <td>...</td>\n",
              "      <td>...</td>\n",
              "      <td>...</td>\n",
              "      <td>...</td>\n",
              "      <td>...</td>\n",
              "      <td>...</td>\n",
              "      <td>...</td>\n",
              "      <td>...</td>\n",
              "      <td>...</td>\n",
              "      <td>...</td>\n",
              "      <td>...</td>\n",
              "      <td>...</td>\n",
              "      <td>...</td>\n",
              "    </tr>\n",
              "    <tr>\n",
              "      <th>361</th>\n",
              "      <td>32</td>\n",
              "      <td>1001995.00</td>\n",
              "      <td>351510.0</td>\n",
              "      <td>44.498308</td>\n",
              "      <td>3845</td>\n",
              "      <td>578</td>\n",
              "      <td>310</td>\n",
              "      <td>670</td>\n",
              "      <td>3453.88</td>\n",
              "      <td>72</td>\n",
              "      <td>985</td>\n",
              "      <td>64</td>\n",
              "      <td>2</td>\n",
              "      <td>864</td>\n",
              "      <td>144770</td>\n",
              "      <td>2203</td>\n",
              "      <td>44.498897</td>\n",
              "      <td>0</td>\n",
              "    </tr>\n",
              "    <tr>\n",
              "      <th>362</th>\n",
              "      <td>15</td>\n",
              "      <td>554650.00</td>\n",
              "      <td>93318.0</td>\n",
              "      <td>21.639693</td>\n",
              "      <td>1267</td>\n",
              "      <td>372</td>\n",
              "      <td>120</td>\n",
              "      <td>80</td>\n",
              "      <td>2125.46</td>\n",
              "      <td>50</td>\n",
              "      <td>672</td>\n",
              "      <td>84</td>\n",
              "      <td>0</td>\n",
              "      <td>600</td>\n",
              "      <td>100534</td>\n",
              "      <td>1528</td>\n",
              "      <td>21.639440</td>\n",
              "      <td>0</td>\n",
              "    </tr>\n",
              "    <tr>\n",
              "      <th>363</th>\n",
              "      <td>34</td>\n",
              "      <td>643140.00</td>\n",
              "      <td>256019.0</td>\n",
              "      <td>61.811099</td>\n",
              "      <td>3259</td>\n",
              "      <td>612</td>\n",
              "      <td>274</td>\n",
              "      <td>249</td>\n",
              "      <td>3581.62</td>\n",
              "      <td>84</td>\n",
              "      <td>899</td>\n",
              "      <td>224</td>\n",
              "      <td>0</td>\n",
              "      <td>1008</td>\n",
              "      <td>168896</td>\n",
              "      <td>2621</td>\n",
              "      <td>61.811447</td>\n",
              "      <td>0</td>\n",
              "    </tr>\n",
              "    <tr>\n",
              "      <th>364</th>\n",
              "      <td>50</td>\n",
              "      <td>1494813.81</td>\n",
              "      <td>419685.0</td>\n",
              "      <td>73.473829</td>\n",
              "      <td>5449</td>\n",
              "      <td>843</td>\n",
              "      <td>381</td>\n",
              "      <td>372</td>\n",
              "      <td>4381.25</td>\n",
              "      <td>102</td>\n",
              "      <td>1303</td>\n",
              "      <td>369</td>\n",
              "      <td>0</td>\n",
              "      <td>1224</td>\n",
              "      <td>205083</td>\n",
              "      <td>2832</td>\n",
              "      <td>73.473719</td>\n",
              "      <td>0</td>\n",
              "    </tr>\n",
              "    <tr>\n",
              "      <th>365</th>\n",
              "      <td>90</td>\n",
              "      <td>1459701.18</td>\n",
              "      <td>623884.0</td>\n",
              "      <td>122.385076</td>\n",
              "      <td>9338</td>\n",
              "      <td>1368</td>\n",
              "      <td>805</td>\n",
              "      <td>837</td>\n",
              "      <td>7924.99</td>\n",
              "      <td>179</td>\n",
              "      <td>2262</td>\n",
              "      <td>804</td>\n",
              "      <td>105</td>\n",
              "      <td>2148</td>\n",
              "      <td>359878</td>\n",
              "      <td>5724</td>\n",
              "      <td>122.384477</td>\n",
              "      <td>57</td>\n",
              "    </tr>\n",
              "  </tbody>\n",
              "</table>\n",
              "<p>365 rows × 18 columns</p>\n",
              "</div>"
            ],
            "text/plain": [
              "     status        goal    pledged  ...  name_length  fraction_goal  holidays\n",
              "doy                                 ...                                      \n",
              "1       174  2960249.00  1616925.0  ...         9875     281.239159        29\n",
              "2        73  1794146.11   639998.0  ...         4191      99.804778        87\n",
              "3        62  1132991.24   919392.0  ...         3107      99.938928         0\n",
              "4        44   484362.00   261854.0  ...         2628      62.556205         0\n",
              "5        55   521205.47   274061.0  ...         2890      73.868285         0\n",
              "..      ...         ...        ...  ...          ...            ...       ...\n",
              "361      32  1001995.00   351510.0  ...         2203      44.498897         0\n",
              "362      15   554650.00    93318.0  ...         1528      21.639440         0\n",
              "363      34   643140.00   256019.0  ...         2621      61.811447         0\n",
              "364      50  1494813.81   419685.0  ...         2832      73.473719         0\n",
              "365      90  1459701.18   623884.0  ...         5724     122.384477        57\n",
              "\n",
              "[365 rows x 18 columns]"
            ]
          },
          "metadata": {
            "tags": []
          },
          "execution_count": 162
        }
      ]
    },
    {
      "cell_type": "code",
      "metadata": {
        "id": "ib6F_Z8EasDf"
      },
      "source": [
        "ks['p']=1\n",
        "df=ks.groupby(ks.month).sum()\n",
        "df['fraction'] = df.status/df.p\n",
        "df\n",
        "df.fraction.plot(kind='bar')"
      ],
      "execution_count": null,
      "outputs": []
    },
    {
      "cell_type": "code",
      "metadata": {
        "colab": {
          "base_uri": "https://localhost:8080/",
          "height": 663
        },
        "id": "T1iwbdJHbY32",
        "outputId": "caa779fd-8395-4504-cdd7-319786b7165f"
      },
      "source": [
        "fig, ax = plt.subplots(figsize=(16,11))\n",
        "\n",
        "ks['p']=1\n",
        "df=ks.groupby(ks.doy).sum()\n",
        "df['fraction'] = df.status/df.p\n",
        "df\n",
        "\n",
        "df.fraction.plot(kind='bar')\n",
        "\n",
        "plt.xticks(np.linspace(0,365,52))\n",
        "plt.show()"
      ],
      "execution_count": 163,
      "outputs": [
        {
          "output_type": "display_data",
          "data": {
            "image/png": "[encoded data removed]",
            "text/plain": [
              "<Figure size 1152x792 with 1 Axes>"
            ]
          },
          "metadata": {
            "tags": [],
            "needs_background": "light"
          }
        }
      ]
    },
    {
      "cell_type": "code",
      "metadata": {
        "colab": {
          "base_uri": "https://localhost:8080/",
          "height": 663
        },
        "id": "xp8O6lJ1urFp",
        "outputId": "87113e9d-ee93-4a5e-e668-8d0d70b08999"
      },
      "source": [
        "fig, ax = plt.subplots(figsize=(16,11))\n",
        "\n",
        "ks['p']=1\n",
        "df=ks.groupby(ks.hour).sum()\n",
        "df['fraction'] = df.status/df.p\n",
        "df\n",
        "\n",
        "df.p.plot(kind='bar')\n",
        "\n",
        "plt.show()"
      ],
      "execution_count": 165,
      "outputs": [
        {
          "output_type": "display_data",
          "data": {
            "image/png": "[encoded data removed]",
            "text/plain": [
              "<Figure size 1152x792 with 1 Axes>"
            ]
          },
          "metadata": {
            "tags": [],
            "needs_background": "light"
          }
        }
      ]
    },
    {
      "cell_type": "code",
      "metadata": {
        "id": "SeSp4sUW2JzF",
        "colab": {
          "base_uri": "https://localhost:8080/",
          "height": 265
        },
        "outputId": "6aa8742f-7f16-410c-fffe-bd76ecc89ec2"
      },
      "source": [
        "ks.launched.hist()\n",
        "ks[ks.status==1].launched.hist()\n",
        "plt.show()"
      ],
      "execution_count": 9,
      "outputs": [
        {
          "output_type": "display_data",
          "data": {
            "image/png": "[encoded data removed]",
            "text/plain": [
              "<Figure size 432x288 with 1 Axes>"
            ]
          },
          "metadata": {
            "tags": [],
            "needs_background": "light"
          }
        }
      ]
    },
    {
      "cell_type": "code",
      "metadata": {
        "id": "Kq-2Z_mMeJNC"
      },
      "source": [
        "ks['p']=1\n",
        "df=ks.groupby([(ks.year),(ks.month)]).sum()\n",
        "df['fraction'] = df.status/df.p\n",
        "df"
      ],
      "execution_count": null,
      "outputs": []
    },
    {
      "cell_type": "code",
      "metadata": {
        "id": "du6WCZz4asAY"
      },
      "source": [
        ""
      ],
      "execution_count": 136,
      "outputs": []
    },
    {
      "cell_type": "code",
      "metadata": {
        "colab": {
          "base_uri": "https://localhost:8080/"
        },
        "id": "Wdqng1Aqar9A",
        "outputId": "38ba8758-b967-4d6e-eb88-036454b5a3bf"
      },
      "source": [
        "ks.launched.iloc[0]"
      ],
      "execution_count": 133,
      "outputs": [
        {
          "output_type": "execute_result",
          "data": {
            "text/plain": [
              "Timestamp('2011-08-19 19:28:17+0000', tz='UTC')"
            ]
          },
          "metadata": {
            "tags": []
          },
          "execution_count": 133
        }
      ]
    },
    {
      "cell_type": "code",
      "metadata": {
        "colab": {
          "base_uri": "https://localhost:8080/"
        },
        "id": "X1FgHsOuar5n",
        "outputId": "ef13c9a5-6a91-4ce2-e420-78c93610305a"
      },
      "source": [
        "succ_frac(ks[ks.holidays==1])"
      ],
      "execution_count": 140,
      "outputs": [
        {
          "output_type": "execute_result",
          "data": {
            "text/plain": [
              "0.5387323943661971"
            ]
          },
          "metadata": {
            "tags": []
          },
          "execution_count": 140
        }
      ]
    },
    {
      "cell_type": "code",
      "metadata": {
        "colab": {
          "base_uri": "https://localhost:8080/",
          "height": 419
        },
        "id": "6GtE5Ivgar14",
        "outputId": "394213b9-dfd4-4421-9fc5-9d0151d56f07"
      },
      "source": [
        "ks[ks.holidays==1]"
      ],
      "execution_count": 142,
      "outputs": [
        {
          "output_type": "execute_result",
          "data": {
            "text/html": [
              "<div>\n",
              "<style scoped>\n",
              "    .dataframe tbody tr th:only-of-type {\n",
              "        vertical-align: middle;\n",
              "    }\n",
              "\n",
              "    .dataframe tbody tr th {\n",
              "        vertical-align: top;\n",
              "    }\n",
              "\n",
              "    .dataframe thead th {\n",
              "        text-align: right;\n",
              "    }\n",
              "</style>\n",
              "<table border=\"1\" class=\"dataframe\">\n",
              "  <thead>\n",
              "    <tr style=\"text-align: right;\">\n",
              "      <th></th>\n",
              "      <th>name</th>\n",
              "      <th>category</th>\n",
              "      <th>status</th>\n",
              "      <th>goal</th>\n",
              "      <th>pledged</th>\n",
              "      <th>funded percentage</th>\n",
              "      <th>backers</th>\n",
              "      <th>launched</th>\n",
              "      <th>levels</th>\n",
              "      <th>updates</th>\n",
              "      <th>comments</th>\n",
              "      <th>duration</th>\n",
              "      <th>hour</th>\n",
              "      <th>doy</th>\n",
              "      <th>day</th>\n",
              "      <th>weekend</th>\n",
              "      <th>month</th>\n",
              "      <th>year</th>\n",
              "      <th>name_length</th>\n",
              "      <th>fraction_goal</th>\n",
              "      <th>p</th>\n",
              "      <th>holidays</th>\n",
              "    </tr>\n",
              "  </thead>\n",
              "  <tbody>\n",
              "    <tr>\n",
              "      <th>22</th>\n",
              "      <td>Release Sxip Shirey's SONIC NEW YORK</td>\n",
              "      <td>Music</td>\n",
              "      <td>1</td>\n",
              "      <td>5000.0</td>\n",
              "      <td>6860.0</td>\n",
              "      <td>1.372000</td>\n",
              "      <td>110</td>\n",
              "      <td>2009-11-26 18:38:00+00:00</td>\n",
              "      <td>14</td>\n",
              "      <td>28</td>\n",
              "      <td>9</td>\n",
              "      <td>88.19</td>\n",
              "      <td>18</td>\n",
              "      <td>330</td>\n",
              "      <td>3</td>\n",
              "      <td>0</td>\n",
              "      <td>11</td>\n",
              "      <td>2009</td>\n",
              "      <td>31</td>\n",
              "      <td>1.372000</td>\n",
              "      <td>1</td>\n",
              "      <td>1</td>\n",
              "    </tr>\n",
              "    <tr>\n",
              "      <th>25</th>\n",
              "      <td>Crossroads [San Francisco Cinematheque]</td>\n",
              "      <td>Film &amp; Video</td>\n",
              "      <td>1</td>\n",
              "      <td>7000.0</td>\n",
              "      <td>7030.0</td>\n",
              "      <td>1.004286</td>\n",
              "      <td>41</td>\n",
              "      <td>2010-10-11 06:59:00+00:00</td>\n",
              "      <td>6</td>\n",
              "      <td>0</td>\n",
              "      <td>0</td>\n",
              "      <td>37.34</td>\n",
              "      <td>6</td>\n",
              "      <td>284</td>\n",
              "      <td>0</td>\n",
              "      <td>0</td>\n",
              "      <td>10</td>\n",
              "      <td>2010</td>\n",
              "      <td>36</td>\n",
              "      <td>1.004286</td>\n",
              "      <td>1</td>\n",
              "      <td>1</td>\n",
              "    </tr>\n",
              "    <tr>\n",
              "      <th>30</th>\n",
              "      <td>\"Rainy Day\" a sci fi drama feature film</td>\n",
              "      <td>Film &amp; Video</td>\n",
              "      <td>0</td>\n",
              "      <td>15000.0</td>\n",
              "      <td>1.0</td>\n",
              "      <td>0.000067</td>\n",
              "      <td>1</td>\n",
              "      <td>2011-07-04 22:09:40+00:00</td>\n",
              "      <td>1</td>\n",
              "      <td>1</td>\n",
              "      <td>0</td>\n",
              "      <td>60.00</td>\n",
              "      <td>22</td>\n",
              "      <td>185</td>\n",
              "      <td>0</td>\n",
              "      <td>0</td>\n",
              "      <td>7</td>\n",
              "      <td>2011</td>\n",
              "      <td>32</td>\n",
              "      <td>0.000067</td>\n",
              "      <td>1</td>\n",
              "      <td>1</td>\n",
              "    </tr>\n",
              "    <tr>\n",
              "      <th>42</th>\n",
              "      <td>\" Hugo's There \" \\- Real News. Unbelievably.</td>\n",
              "      <td>Film &amp; Video</td>\n",
              "      <td>0</td>\n",
              "      <td>8400.0</td>\n",
              "      <td>25.0</td>\n",
              "      <td>0.002976</td>\n",
              "      <td>1</td>\n",
              "      <td>2011-09-05 01:20:25+00:00</td>\n",
              "      <td>9</td>\n",
              "      <td>1</td>\n",
              "      <td>0</td>\n",
              "      <td>42.00</td>\n",
              "      <td>1</td>\n",
              "      <td>248</td>\n",
              "      <td>0</td>\n",
              "      <td>0</td>\n",
              "      <td>9</td>\n",
              "      <td>2011</td>\n",
              "      <td>37</td>\n",
              "      <td>0.002976</td>\n",
              "      <td>1</td>\n",
              "      <td>1</td>\n",
              "    </tr>\n",
              "    <tr>\n",
              "      <th>52</th>\n",
              "      <td>Remnants: Finishing Phase</td>\n",
              "      <td>Film &amp; Video</td>\n",
              "      <td>1</td>\n",
              "      <td>8000.0</td>\n",
              "      <td>10544.0</td>\n",
              "      <td>1.318000</td>\n",
              "      <td>131</td>\n",
              "      <td>2011-05-30 03:59:43+00:00</td>\n",
              "      <td>5</td>\n",
              "      <td>23</td>\n",
              "      <td>36</td>\n",
              "      <td>45.00</td>\n",
              "      <td>3</td>\n",
              "      <td>150</td>\n",
              "      <td>0</td>\n",
              "      <td>0</td>\n",
              "      <td>5</td>\n",
              "      <td>2011</td>\n",
              "      <td>23</td>\n",
              "      <td>1.318000</td>\n",
              "      <td>1</td>\n",
              "      <td>1</td>\n",
              "    </tr>\n",
              "    <tr>\n",
              "      <th>...</th>\n",
              "      <td>...</td>\n",
              "      <td>...</td>\n",
              "      <td>...</td>\n",
              "      <td>...</td>\n",
              "      <td>...</td>\n",
              "      <td>...</td>\n",
              "      <td>...</td>\n",
              "      <td>...</td>\n",
              "      <td>...</td>\n",
              "      <td>...</td>\n",
              "      <td>...</td>\n",
              "      <td>...</td>\n",
              "      <td>...</td>\n",
              "      <td>...</td>\n",
              "      <td>...</td>\n",
              "      <td>...</td>\n",
              "      <td>...</td>\n",
              "      <td>...</td>\n",
              "      <td>...</td>\n",
              "      <td>...</td>\n",
              "      <td>...</td>\n",
              "      <td>...</td>\n",
              "    </tr>\n",
              "    <tr>\n",
              "      <th>45891</th>\n",
              "      <td>Zee.Dog - Stirring things up in the Dog Industry</td>\n",
              "      <td>Design</td>\n",
              "      <td>1</td>\n",
              "      <td>10000.0</td>\n",
              "      <td>10805.0</td>\n",
              "      <td>1.080500</td>\n",
              "      <td>84</td>\n",
              "      <td>2010-11-25 00:12:56+00:00</td>\n",
              "      <td>7</td>\n",
              "      <td>9</td>\n",
              "      <td>4</td>\n",
              "      <td>45.04</td>\n",
              "      <td>0</td>\n",
              "      <td>329</td>\n",
              "      <td>3</td>\n",
              "      <td>0</td>\n",
              "      <td>11</td>\n",
              "      <td>2010</td>\n",
              "      <td>40</td>\n",
              "      <td>1.080500</td>\n",
              "      <td>1</td>\n",
              "      <td>1</td>\n",
              "    </tr>\n",
              "    <tr>\n",
              "      <th>45892</th>\n",
              "      <td>Zee.Dog - Stirring things up in the Dog Industry</td>\n",
              "      <td>Design</td>\n",
              "      <td>1</td>\n",
              "      <td>10000.0</td>\n",
              "      <td>10805.0</td>\n",
              "      <td>1.080500</td>\n",
              "      <td>84</td>\n",
              "      <td>2010-11-25 00:12:56+00:00</td>\n",
              "      <td>7</td>\n",
              "      <td>9</td>\n",
              "      <td>4</td>\n",
              "      <td>45.04</td>\n",
              "      <td>0</td>\n",
              "      <td>329</td>\n",
              "      <td>3</td>\n",
              "      <td>0</td>\n",
              "      <td>11</td>\n",
              "      <td>2010</td>\n",
              "      <td>40</td>\n",
              "      <td>1.080500</td>\n",
              "      <td>1</td>\n",
              "      <td>1</td>\n",
              "    </tr>\n",
              "    <tr>\n",
              "      <th>45899</th>\n",
              "      <td>Foreigners Living In America</td>\n",
              "      <td>Film &amp; Video</td>\n",
              "      <td>0</td>\n",
              "      <td>150000.0</td>\n",
              "      <td>100.0</td>\n",
              "      <td>0.000667</td>\n",
              "      <td>1</td>\n",
              "      <td>2012-01-02 18:38:00+00:00</td>\n",
              "      <td>10</td>\n",
              "      <td>0</td>\n",
              "      <td>1</td>\n",
              "      <td>50.94</td>\n",
              "      <td>18</td>\n",
              "      <td>2</td>\n",
              "      <td>0</td>\n",
              "      <td>0</td>\n",
              "      <td>1</td>\n",
              "      <td>2012</td>\n",
              "      <td>25</td>\n",
              "      <td>0.000667</td>\n",
              "      <td>1</td>\n",
              "      <td>1</td>\n",
              "    </tr>\n",
              "    <tr>\n",
              "      <th>45900</th>\n",
              "      <td>Foreigners Living In America</td>\n",
              "      <td>Film &amp; Video</td>\n",
              "      <td>0</td>\n",
              "      <td>150000.0</td>\n",
              "      <td>100.0</td>\n",
              "      <td>0.000667</td>\n",
              "      <td>1</td>\n",
              "      <td>2012-01-02 18:38:00+00:00</td>\n",
              "      <td>10</td>\n",
              "      <td>0</td>\n",
              "      <td>1</td>\n",
              "      <td>50.94</td>\n",
              "      <td>18</td>\n",
              "      <td>2</td>\n",
              "      <td>0</td>\n",
              "      <td>0</td>\n",
              "      <td>1</td>\n",
              "      <td>2012</td>\n",
              "      <td>25</td>\n",
              "      <td>0.000667</td>\n",
              "      <td>1</td>\n",
              "      <td>1</td>\n",
              "    </tr>\n",
              "    <tr>\n",
              "      <th>45954</th>\n",
              "      <td>ELIZABETH REX</td>\n",
              "      <td>Music</td>\n",
              "      <td>1</td>\n",
              "      <td>10000.0</td>\n",
              "      <td>10000.0</td>\n",
              "      <td>1.000000</td>\n",
              "      <td>58</td>\n",
              "      <td>2012-01-16 05:00:00+00:00</td>\n",
              "      <td>4</td>\n",
              "      <td>2</td>\n",
              "      <td>0</td>\n",
              "      <td>27.32</td>\n",
              "      <td>5</td>\n",
              "      <td>16</td>\n",
              "      <td>0</td>\n",
              "      <td>0</td>\n",
              "      <td>1</td>\n",
              "      <td>2012</td>\n",
              "      <td>12</td>\n",
              "      <td>1.000000</td>\n",
              "      <td>1</td>\n",
              "      <td>1</td>\n",
              "    </tr>\n",
              "  </tbody>\n",
              "</table>\n",
              "<p>1136 rows × 22 columns</p>\n",
              "</div>"
            ],
            "text/plain": [
              "                                                   name  ... holidays\n",
              "22                 Release Sxip Shirey's SONIC NEW YORK  ...        1\n",
              "25              Crossroads [San Francisco Cinematheque]  ...        1\n",
              "30              \"Rainy Day\" a sci fi drama feature film  ...        1\n",
              "42         \" Hugo's There \" \\- Real News. Unbelievably.  ...        1\n",
              "52                            Remnants: Finishing Phase  ...        1\n",
              "...                                                 ...  ...      ...\n",
              "45891  Zee.Dog - Stirring things up in the Dog Industry  ...        1\n",
              "45892  Zee.Dog - Stirring things up in the Dog Industry  ...        1\n",
              "45899                      Foreigners Living In America  ...        1\n",
              "45900                      Foreigners Living In America  ...        1\n",
              "45954                                     ELIZABETH REX  ...        1\n",
              "\n",
              "[1136 rows x 22 columns]"
            ]
          },
          "metadata": {
            "tags": []
          },
          "execution_count": 142
        }
      ]
    },
    {
      "cell_type": "code",
      "metadata": {
        "id": "6a_3ER00fXTD"
      },
      "source": [
        ""
      ],
      "execution_count": 149,
      "outputs": []
    },
    {
      "cell_type": "code",
      "metadata": {
        "colab": {
          "base_uri": "https://localhost:8080/",
          "height": 597
        },
        "id": "I523nI5fqObP",
        "outputId": "0cd62ed2-7266-4fc6-eebf-6dca39177329"
      },
      "source": [
        "bins = np.logspace(0,5,40)\n",
        "plt.hist(ks.backers,bins=bins)\n",
        "#plt.xscale('log')\n",
        "mpld3.display()\n"
      ],
      "execution_count": 153,
      "outputs": [
        {
          "output_type": "execute_result",
          "data": {
            "text/html": [
              "\n",
              "\n",
              "<style>\n",
              "\n",
              "</style>\n",
              "\n",
              "<div id=\"fig_el611401056724915848541925055\"></div>\n",
              "<script>\n",
              "function mpld3_load_lib(url, callback){\n",
              "  var s = document.createElement('script');\n",
              "  s.src = url;\n",
              "  s.async = true;\n",
              "  s.onreadystatechange = s.onload = callback;\n",
              "  s.onerror = function(){console.warn(\"failed to load library \" + url);};\n",
              "  document.getElementsByTagName(\"head\")[0].appendChild(s);\n",
              "}\n",
              "\n",
              "if(typeof(mpld3) !== \"undefined\" && mpld3._mpld3IsLoaded){\n",
              "   // already loaded: just create the figure\n",
              "   !function(mpld3){\n",
              "       \n",
              "       mpld3.draw_figure(\"fig_el611401056724915848541925055\", {\"width\": 792.0, \"height\": 576.0, \"axes\": [{\"bbox\": [0.125, 0.125, 0.775, 0.755], \"xlim\": [-4998.950000000001, 104999.95], \"ylim\": [0.0, 3962.7], \"xdomain\": [-4998.950000000001, 104999.95], \"ydomain\": [0.0, 3962.7], \"xscale\": \"linear\", \"yscale\": \"linear\", \"axes\": [{\"position\": \"bottom\", \"nticks\": 8, \"tickvalues\": null, \"tickformat_formatter\": \"\", \"tickformat\": null, \"scale\": \"linear\", \"fontsize\": 10.0, \"grid\": {\"gridOn\": false}, \"visible\": true}, {\"position\": \"left\", \"nticks\": 9, \"tickvalues\": null, \"tickformat_formatter\": \"\", \"tickformat\": null, \"scale\": \"linear\", \"fontsize\": 10.0, \"grid\": {\"gridOn\": false}, \"visible\": true}], \"axesbg\": \"#FFFFFF\", \"axesbgalpha\": null, \"zoomable\": true, \"id\": \"el61140105675441488\", \"lines\": [], \"paths\": [{\"data\": \"data01\", \"xindex\": 0, \"yindex\": 1, \"coordinates\": \"data\", \"pathcodes\": [\"M\", \"L\", \"L\", \"L\", \"Z\"], \"id\": \"el61140105669450048\", \"dasharray\": \"none\", \"alpha\": 1, \"facecolor\": \"#1F77B4\", \"edgecolor\": \"none\", \"edgewidth\": 1.0, \"zorder\": 1}, {\"data\": \"data02\", \"xindex\": 0, \"yindex\": 1, \"coordinates\": \"data\", \"pathcodes\": [\"M\", \"L\", \"L\", \"L\", \"Z\"], \"id\": \"el61140105669451616\", \"dasharray\": \"none\", \"alpha\": 1, \"facecolor\": \"#1F77B4\", \"edgecolor\": \"none\", \"edgewidth\": 1.0, \"zorder\": 1}, {\"data\": \"data03\", \"xindex\": 0, \"yindex\": 1, \"coordinates\": \"data\", \"pathcodes\": [\"M\", \"L\", \"L\", \"L\", \"Z\"], \"id\": \"el61140105669449152\", \"dasharray\": \"none\", \"alpha\": 1, \"facecolor\": \"#1F77B4\", \"edgecolor\": \"none\", \"edgewidth\": 1.0, \"zorder\": 1}, {\"data\": \"data04\", \"xindex\": 0, \"yindex\": 1, \"coordinates\": \"data\", \"pathcodes\": [\"M\", \"L\", \"L\", \"L\", \"Z\"], \"id\": \"el61140105669448648\", \"dasharray\": \"none\", \"alpha\": 1, \"facecolor\": \"#1F77B4\", \"edgecolor\": \"none\", \"edgewidth\": 1.0, \"zorder\": 1}, {\"data\": \"data05\", \"xindex\": 0, \"yindex\": 1, \"coordinates\": \"data\", \"pathcodes\": [\"M\", \"L\", \"L\", \"L\", \"Z\"], \"id\": \"el61140105674589184\", \"dasharray\": \"none\", \"alpha\": 1, \"facecolor\": \"#1F77B4\", \"edgecolor\": \"none\", \"edgewidth\": 1.0, \"zorder\": 1}, {\"data\": \"data06\", \"xindex\": 0, \"yindex\": 1, \"coordinates\": \"data\", \"pathcodes\": [\"M\", \"L\", \"L\", \"L\", \"Z\"], \"id\": \"el61140105674591536\", \"dasharray\": \"none\", \"alpha\": 1, \"facecolor\": \"#1F77B4\", \"edgecolor\": \"none\", \"edgewidth\": 1.0, \"zorder\": 1}, {\"data\": \"data07\", \"xindex\": 0, \"yindex\": 1, \"coordinates\": \"data\", \"pathcodes\": [\"M\", \"L\", \"L\", \"L\", \"Z\"], \"id\": \"el61140105674589240\", \"dasharray\": \"none\", \"alpha\": 1, \"facecolor\": \"#1F77B4\", \"edgecolor\": \"none\", \"edgewidth\": 1.0, \"zorder\": 1}, {\"data\": \"data08\", \"xindex\": 0, \"yindex\": 1, \"coordinates\": \"data\", \"pathcodes\": [\"M\", \"L\", \"L\", \"L\", \"Z\"], \"id\": \"el61140105685573584\", \"dasharray\": \"none\", \"alpha\": 1, \"facecolor\": \"#1F77B4\", \"edgecolor\": \"none\", \"edgewidth\": 1.0, \"zorder\": 1}, {\"data\": \"data09\", \"xindex\": 0, \"yindex\": 1, \"coordinates\": \"data\", \"pathcodes\": [\"M\", \"L\", \"L\", \"L\", \"Z\"], \"id\": \"el61140105683922056\", \"dasharray\": \"none\", \"alpha\": 1, \"facecolor\": \"#1F77B4\", \"edgecolor\": \"none\", \"edgewidth\": 1.0, \"zorder\": 1}, {\"data\": \"data10\", \"xindex\": 0, \"yindex\": 1, \"coordinates\": \"data\", \"pathcodes\": [\"M\", \"L\", \"L\", \"L\", \"Z\"], \"id\": \"el61140105677404256\", \"dasharray\": \"none\", \"alpha\": 1, \"facecolor\": \"#1F77B4\", \"edgecolor\": \"none\", \"edgewidth\": 1.0, \"zorder\": 1}, {\"data\": \"data11\", \"xindex\": 0, \"yindex\": 1, \"coordinates\": \"data\", \"pathcodes\": [\"M\", \"L\", \"L\", \"L\", \"Z\"], \"id\": \"el61140105661746032\", \"dasharray\": \"none\", \"alpha\": 1, \"facecolor\": \"#1F77B4\", \"edgecolor\": \"none\", \"edgewidth\": 1.0, \"zorder\": 1}, {\"data\": \"data12\", \"xindex\": 0, \"yindex\": 1, \"coordinates\": \"data\", \"pathcodes\": [\"M\", \"L\", \"L\", \"L\", \"Z\"], \"id\": \"el61140105661745696\", \"dasharray\": \"none\", \"alpha\": 1, \"facecolor\": \"#1F77B4\", \"edgecolor\": \"none\", \"edgewidth\": 1.0, \"zorder\": 1}, {\"data\": \"data13\", \"xindex\": 0, \"yindex\": 1, \"coordinates\": \"data\", \"pathcodes\": [\"M\", \"L\", \"L\", \"L\", \"Z\"], \"id\": \"el61140105661744240\", \"dasharray\": \"none\", \"alpha\": 1, \"facecolor\": \"#1F77B4\", \"edgecolor\": \"none\", \"edgewidth\": 1.0, \"zorder\": 1}, {\"data\": \"data14\", \"xindex\": 0, \"yindex\": 1, \"coordinates\": \"data\", \"pathcodes\": [\"M\", \"L\", \"L\", \"L\", \"Z\"], \"id\": \"el61140105673699112\", \"dasharray\": \"none\", \"alpha\": 1, \"facecolor\": \"#1F77B4\", \"edgecolor\": \"none\", \"edgewidth\": 1.0, \"zorder\": 1}, {\"data\": \"data15\", \"xindex\": 0, \"yindex\": 1, \"coordinates\": \"data\", \"pathcodes\": [\"M\", \"L\", \"L\", \"L\", \"Z\"], \"id\": \"el61140105673698832\", \"dasharray\": \"none\", \"alpha\": 1, \"facecolor\": \"#1F77B4\", \"edgecolor\": \"none\", \"edgewidth\": 1.0, \"zorder\": 1}, {\"data\": \"data16\", \"xindex\": 0, \"yindex\": 1, \"coordinates\": \"data\", \"pathcodes\": [\"M\", \"L\", \"L\", \"L\", \"Z\"], \"id\": \"el61140105670193728\", \"dasharray\": \"none\", \"alpha\": 1, \"facecolor\": \"#1F77B4\", \"edgecolor\": \"none\", \"edgewidth\": 1.0, \"zorder\": 1}, {\"data\": \"data17\", \"xindex\": 0, \"yindex\": 1, \"coordinates\": \"data\", \"pathcodes\": [\"M\", \"L\", \"L\", \"L\", \"Z\"], \"id\": \"el61140105685684800\", \"dasharray\": \"none\", \"alpha\": 1, \"facecolor\": \"#1F77B4\", \"edgecolor\": \"none\", \"edgewidth\": 1.0, \"zorder\": 1}, {\"data\": \"data18\", \"xindex\": 0, \"yindex\": 1, \"coordinates\": \"data\", \"pathcodes\": [\"M\", \"L\", \"L\", \"L\", \"Z\"], \"id\": \"el61140105662744728\", \"dasharray\": \"none\", \"alpha\": 1, \"facecolor\": \"#1F77B4\", \"edgecolor\": \"none\", \"edgewidth\": 1.0, \"zorder\": 1}, {\"data\": \"data19\", \"xindex\": 0, \"yindex\": 1, \"coordinates\": \"data\", \"pathcodes\": [\"M\", \"L\", \"L\", \"L\", \"Z\"], \"id\": \"el61140105662743104\", \"dasharray\": \"none\", \"alpha\": 1, \"facecolor\": \"#1F77B4\", \"edgecolor\": \"none\", \"edgewidth\": 1.0, \"zorder\": 1}, {\"data\": \"data20\", \"xindex\": 0, \"yindex\": 1, \"coordinates\": \"data\", \"pathcodes\": [\"M\", \"L\", \"L\", \"L\", \"Z\"], \"id\": \"el61140105673643904\", \"dasharray\": \"none\", \"alpha\": 1, \"facecolor\": \"#1F77B4\", \"edgecolor\": \"none\", \"edgewidth\": 1.0, \"zorder\": 1}, {\"data\": \"data21\", \"xindex\": 0, \"yindex\": 1, \"coordinates\": \"data\", \"pathcodes\": [\"M\", \"L\", \"L\", \"L\", \"Z\"], \"id\": \"el61140105673644912\", \"dasharray\": \"none\", \"alpha\": 1, \"facecolor\": \"#1F77B4\", \"edgecolor\": \"none\", \"edgewidth\": 1.0, \"zorder\": 1}, {\"data\": \"data22\", \"xindex\": 0, \"yindex\": 1, \"coordinates\": \"data\", \"pathcodes\": [\"M\", \"L\", \"L\", \"L\", \"Z\"], \"id\": \"el61140105673644632\", \"dasharray\": \"none\", \"alpha\": 1, \"facecolor\": \"#1F77B4\", \"edgecolor\": \"none\", \"edgewidth\": 1.0, \"zorder\": 1}, {\"data\": \"data23\", \"xindex\": 0, \"yindex\": 1, \"coordinates\": \"data\", \"pathcodes\": [\"M\", \"L\", \"L\", \"L\", \"Z\"], \"id\": \"el61140105673644352\", \"dasharray\": \"none\", \"alpha\": 1, \"facecolor\": \"#1F77B4\", \"edgecolor\": \"none\", \"edgewidth\": 1.0, \"zorder\": 1}, {\"data\": \"data24\", \"xindex\": 0, \"yindex\": 1, \"coordinates\": \"data\", \"pathcodes\": [\"M\", \"L\", \"L\", \"L\", \"Z\"], \"id\": \"el61140105678092384\", \"dasharray\": \"none\", \"alpha\": 1, \"facecolor\": \"#1F77B4\", \"edgecolor\": \"none\", \"edgewidth\": 1.0, \"zorder\": 1}, {\"data\": \"data25\", \"xindex\": 0, \"yindex\": 1, \"coordinates\": \"data\", \"pathcodes\": [\"M\", \"L\", \"L\", \"L\", \"Z\"], \"id\": \"el61140105687596112\", \"dasharray\": \"none\", \"alpha\": 1, \"facecolor\": \"#1F77B4\", \"edgecolor\": \"none\", \"edgewidth\": 1.0, \"zorder\": 1}, {\"data\": \"data26\", \"xindex\": 0, \"yindex\": 1, \"coordinates\": \"data\", \"pathcodes\": [\"M\", \"L\", \"L\", \"L\", \"Z\"], \"id\": \"el61140105674449304\", \"dasharray\": \"none\", \"alpha\": 1, \"facecolor\": \"#1F77B4\", \"edgecolor\": \"none\", \"edgewidth\": 1.0, \"zorder\": 1}, {\"data\": \"data27\", \"xindex\": 0, \"yindex\": 1, \"coordinates\": \"data\", \"pathcodes\": [\"M\", \"L\", \"L\", \"L\", \"Z\"], \"id\": \"el61140105674450592\", \"dasharray\": \"none\", \"alpha\": 1, \"facecolor\": \"#1F77B4\", \"edgecolor\": \"none\", \"edgewidth\": 1.0, \"zorder\": 1}, {\"data\": \"data28\", \"xindex\": 0, \"yindex\": 1, \"coordinates\": \"data\", \"pathcodes\": [\"M\", \"L\", \"L\", \"L\", \"Z\"], \"id\": \"el61140105674451656\", \"dasharray\": \"none\", \"alpha\": 1, \"facecolor\": \"#1F77B4\", \"edgecolor\": \"none\", \"edgewidth\": 1.0, \"zorder\": 1}, {\"data\": \"data29\", \"xindex\": 0, \"yindex\": 1, \"coordinates\": \"data\", \"pathcodes\": [\"M\", \"L\", \"L\", \"L\", \"Z\"], \"id\": \"el61140105674452944\", \"dasharray\": \"none\", \"alpha\": 1, \"facecolor\": \"#1F77B4\", \"edgecolor\": \"none\", \"edgewidth\": 1.0, \"zorder\": 1}, {\"data\": \"data30\", \"xindex\": 0, \"yindex\": 1, \"coordinates\": \"data\", \"pathcodes\": [\"M\", \"L\", \"L\", \"L\", \"Z\"], \"id\": \"el61140105681519560\", \"dasharray\": \"none\", \"alpha\": 1, \"facecolor\": \"#1F77B4\", \"edgecolor\": \"none\", \"edgewidth\": 1.0, \"zorder\": 1}, {\"data\": \"data31\", \"xindex\": 0, \"yindex\": 1, \"coordinates\": \"data\", \"pathcodes\": [\"M\", \"L\", \"L\", \"L\", \"Z\"], \"id\": \"el61140105661589376\", \"dasharray\": \"none\", \"alpha\": 1, \"facecolor\": \"#1F77B4\", \"edgecolor\": \"none\", \"edgewidth\": 1.0, \"zorder\": 1}, {\"data\": \"data32\", \"xindex\": 0, \"yindex\": 1, \"coordinates\": \"data\", \"pathcodes\": [\"M\", \"L\", \"L\", \"L\", \"Z\"], \"id\": \"el61140105661589824\", \"dasharray\": \"none\", \"alpha\": 1, \"facecolor\": \"#1F77B4\", \"edgecolor\": \"none\", \"edgewidth\": 1.0, \"zorder\": 1}, {\"data\": \"data33\", \"xindex\": 0, \"yindex\": 1, \"coordinates\": \"data\", \"pathcodes\": [\"M\", \"L\", \"L\", \"L\", \"Z\"], \"id\": \"el61140105662157768\", \"dasharray\": \"none\", \"alpha\": 1, \"facecolor\": \"#1F77B4\", \"edgecolor\": \"none\", \"edgewidth\": 1.0, \"zorder\": 1}, {\"data\": \"data34\", \"xindex\": 0, \"yindex\": 1, \"coordinates\": \"data\", \"pathcodes\": [\"M\", \"L\", \"L\", \"L\", \"Z\"], \"id\": \"el61140105644163648\", \"dasharray\": \"none\", \"alpha\": 1, \"facecolor\": \"#1F77B4\", \"edgecolor\": \"none\", \"edgewidth\": 1.0, \"zorder\": 1}, {\"data\": \"data34\", \"xindex\": 2, \"yindex\": 1, \"coordinates\": \"data\", \"pathcodes\": [\"M\", \"L\", \"L\", \"L\", \"Z\"], \"id\": \"el61140105644164432\", \"dasharray\": \"none\", \"alpha\": 1, \"facecolor\": \"#1F77B4\", \"edgecolor\": \"none\", \"edgewidth\": 1.0, \"zorder\": 1}, {\"data\": \"data34\", \"xindex\": 3, \"yindex\": 1, \"coordinates\": \"data\", \"pathcodes\": [\"M\", \"L\", \"L\", \"L\", \"Z\"], \"id\": \"el61140105644165272\", \"dasharray\": \"none\", \"alpha\": 1, \"facecolor\": \"#1F77B4\", \"edgecolor\": \"none\", \"edgewidth\": 1.0, \"zorder\": 1}, {\"data\": \"data02\", \"xindex\": 2, \"yindex\": 1, \"coordinates\": \"data\", \"pathcodes\": [\"M\", \"L\", \"L\", \"L\", \"Z\"], \"id\": \"el61140105644166112\", \"dasharray\": \"none\", \"alpha\": 1, \"facecolor\": \"#1F77B4\", \"edgecolor\": \"none\", \"edgewidth\": 1.0, \"zorder\": 1}, {\"data\": \"data35\", \"xindex\": 0, \"yindex\": 1, \"coordinates\": \"data\", \"pathcodes\": [\"M\", \"L\", \"L\", \"L\", \"Z\"], \"id\": \"el61140105644166952\", \"dasharray\": \"none\", \"alpha\": 1, \"facecolor\": \"#1F77B4\", \"edgecolor\": \"none\", \"edgewidth\": 1.0, \"zorder\": 1}, {\"data\": \"data34\", \"xindex\": 4, \"yindex\": 1, \"coordinates\": \"data\", \"pathcodes\": [\"M\", \"L\", \"L\", \"L\", \"Z\"], \"id\": \"el61140105667535536\", \"dasharray\": \"none\", \"alpha\": 1, \"facecolor\": \"#1F77B4\", \"edgecolor\": \"none\", \"edgewidth\": 1.0, \"zorder\": 1}], \"markers\": [], \"texts\": [], \"collections\": [], \"images\": [], \"sharex\": [], \"sharey\": []}], \"data\": {\"data01\": [[1.0, 0.0], [1.3433993325989002, 0.0], [1.3433993325989002, 2566.0], [1.0, 2566.0]], \"data02\": [[1.3433993325989002, 0.0, 41246.26382901348], [1.8047217668271702, 0.0, 55410.20330009481], [1.8047217668271702, 0.0, 55410.20330009481], [1.3433993325989002, 0.0, 41246.26382901348]], \"data03\": [[1.80472176682717, 0.0], [2.4244620170823277, 0.0], [2.4244620170823277, 1924.0], [1.80472176682717, 1924.0]], \"data04\": [[2.4244620170823286, 0.0], [3.2570206556597836, 0.0], [3.2570206556597836, 1456.0], [2.4244620170823286, 1456.0]], \"data05\": [[3.257020655659783, 0.0], [4.3754793750741845, 0.0], [4.3754793750741845, 1139.0], [3.257020655659783, 1139.0]], \"data06\": [[4.375479375074184, 0.0], [5.878016072274911, 0.0], [5.878016072274911, 1097.0], [4.375479375074184, 1097.0]], \"data07\": [[5.878016072274912, 0.0], [7.896522868499725, 0.0], [7.896522868499725, 1796.0], [5.878016072274912, 1796.0]], \"data08\": [[7.896522868499724, 0.0], [10.608183551394482, 0.0], [10.608183551394482, 2223.0], [7.896522868499724, 2223.0]], \"data09\": [[10.608183551394484, 0.0], [14.251026703029979, 0.0], [14.251026703029979, 2434.0], [10.608183551394484, 2434.0]], \"data10\": [[14.251026703029975, 0.0], [19.144819761699573, 0.0], [19.144819761699573, 2687.0], [14.251026703029975, 2687.0]], \"data11\": [[19.144819761699576, 0.0], [25.719138090593443, 0.0], [25.719138090593443, 2929.0], [19.144819761699576, 2929.0]], \"data12\": [[25.71913809059344, 0.0], [34.55107294592217, 0.0], [34.55107294592217, 3555.0], [25.71913809059344, 3555.0]], \"data13\": [[34.55107294592218, 0.0], [46.41588833612777, 0.0], [46.41588833612777, 3774.0], [34.55107294592218, 3774.0]], \"data14\": [[46.41588833612777, 0.0], [62.355073412739124, 0.0], [62.355073412739124, 3551.0], [46.41588833612777, 3551.0]], \"data15\": [[62.35507341273912, 0.0], [83.76776400682914, 0.0], [83.76776400682914, 3240.0], [62.35507341273912, 3240.0]], \"data16\": [[83.76776400682917, 0.0], [112.53355826007648, 0.0], [112.53355826007648, 2532.0], [83.76776400682917, 2532.0]], \"data17\": [[112.53355826007648, 0.0], [151.1775070615662, 0.0], [151.1775070615662, 1780.0], [112.53355826007648, 1780.0]], \"data18\": [[151.1775070615662, 0.0], [203.0917620904735, 0.0], [203.0917620904735, 1152.0], [151.1775070615662, 1152.0]], \"data19\": [[203.09176209047348, 0.0], [272.83333764867666, 0.0], [272.83333764867666, 742.0], [203.09176209047348, 742.0]], \"data20\": [[272.83333764867666, 0.0], [366.5241237079626, 0.0], [366.5241237079626, 474.0], [272.83333764867666, 474.0]], \"data21\": [[366.52412370796253, 0.0], [492.3882631706736, 0.0], [492.3882631706736, 326.0], [366.52412370796253, 326.0]], \"data22\": [[492.3882631706737, 0.0], [661.4740641230146, 0.0], [661.4740641230146, 205.0], [492.3882631706737, 205.0]], \"data23\": [[661.4740641230146, 0.0], [888.6238162743398, 0.0], [888.6238162743398, 118.0], [661.4740641230146, 118.0]], \"data24\": [[888.6238162743398, 0.0], [1193.7766417144358, 0.0], [1193.7766417144358, 97.0], [888.6238162743398, 97.0]], \"data25\": [[1193.7766417144358, 0.0], [1603.7187437513294, 0.0], [1603.7187437513294, 69.0], [1193.7766417144358, 69.0]], \"data26\": [[1603.7187437513294, 0.0], [2154.4346900318824, 0.0], [2154.4346900318824, 48.0], [1603.7187437513294, 48.0]], \"data27\": [[2154.4346900318824, 0.0], [2894.266124716749, 0.0], [2894.266124716749, 26.0], [2154.4346900318824, 26.0]], \"data28\": [[2894.266124716749, 0.0], [3888.155180308085, 0.0], [3888.155180308085, 14.0], [2894.266124716749, 14.0]], \"data29\": [[3888.1551803080847, 0.0], [5223.345074266837, 0.0], [5223.345074266837, 15.0], [3888.1551803080847, 15.0]], \"data30\": [[5223.345074266837, 0.0], [7017.0382867038215, 0.0], [7017.0382867038215, 13.0], [5223.345074266837, 13.0]], \"data31\": [[7017.038286703823, 0.0], [9426.684551178845, 0.0], [9426.684551178845, 3.0], [7017.038286703823, 3.0]], \"data32\": [[9426.684551178845, 0.0], [12663.801734674022, 0.0], [12663.801734674022, 4.0], [9426.684551178845, 4.0]], \"data33\": [[12663.801734674023, 0.0], [17012.542798525858, 0.0], [17012.542798525858, 5.0], [12663.801734674023, 5.0]], \"data34\": [[17012.542798525858, 0.0, 22854.638641349884, 30702.906297578502, 74438.03013251681], [22854.638641349884, 0.0, 30702.9062975785, 41246.26382901348, 100000.0], [22854.638641349884, 1.0, 30702.9062975785, 41246.26382901348, 100000.0], [17012.542798525858, 1.0, 22854.638641349884, 30702.906297578502, 74438.03013251681]], \"data35\": [[55410.203300094814, 0.0], [74438.03013251681, 0.0], [74438.03013251681, 2.0], [55410.203300094814, 2.0]]}, \"id\": \"el61140105672491584\", \"plugins\": [{\"type\": \"reset\"}, {\"type\": \"zoom\", \"button\": true, \"enabled\": false}, {\"type\": \"boxzoom\", \"button\": true, \"enabled\": false}]});\n",
              "   }(mpld3);\n",
              "}else if(typeof define === \"function\" && define.amd){\n",
              "   // require.js is available: use it to load d3/mpld3\n",
              "   require.config({paths: {d3: \"https://d3js.org/d3.v5\"}});\n",
              "   require([\"d3\"], function(d3){\n",
              "      window.d3 = d3;\n",
              "      mpld3_load_lib(\"https://mpld3.github.io/js/mpld3.v0.5.2.js\", function(){\n",
              "         \n",
              "         mpld3.draw_figure(\"fig_el611401056724915848541925055\", {\"width\": 792.0, \"height\": 576.0, \"axes\": [{\"bbox\": [0.125, 0.125, 0.775, 0.755], \"xlim\": [-4998.950000000001, 104999.95], \"ylim\": [0.0, 3962.7], \"xdomain\": [-4998.950000000001, 104999.95], \"ydomain\": [0.0, 3962.7], \"xscale\": \"linear\", \"yscale\": \"linear\", \"axes\": [{\"position\": \"bottom\", \"nticks\": 8, \"tickvalues\": null, \"tickformat_formatter\": \"\", \"tickformat\": null, \"scale\": \"linear\", \"fontsize\": 10.0, \"grid\": {\"gridOn\": false}, \"visible\": true}, {\"position\": \"left\", \"nticks\": 9, \"tickvalues\": null, \"tickformat_formatter\": \"\", \"tickformat\": null, \"scale\": \"linear\", \"fontsize\": 10.0, \"grid\": {\"gridOn\": false}, \"visible\": true}], \"axesbg\": \"#FFFFFF\", \"axesbgalpha\": null, \"zoomable\": true, \"id\": \"el61140105675441488\", \"lines\": [], \"paths\": [{\"data\": \"data01\", \"xindex\": 0, \"yindex\": 1, \"coordinates\": \"data\", \"pathcodes\": [\"M\", \"L\", \"L\", \"L\", \"Z\"], \"id\": \"el61140105669450048\", \"dasharray\": \"none\", \"alpha\": 1, \"facecolor\": \"#1F77B4\", \"edgecolor\": \"none\", \"edgewidth\": 1.0, \"zorder\": 1}, {\"data\": \"data02\", \"xindex\": 0, \"yindex\": 1, \"coordinates\": \"data\", \"pathcodes\": [\"M\", \"L\", \"L\", \"L\", \"Z\"], \"id\": \"el61140105669451616\", \"dasharray\": \"none\", \"alpha\": 1, \"facecolor\": \"#1F77B4\", \"edgecolor\": \"none\", \"edgewidth\": 1.0, \"zorder\": 1}, {\"data\": \"data03\", \"xindex\": 0, \"yindex\": 1, \"coordinates\": \"data\", \"pathcodes\": [\"M\", \"L\", \"L\", \"L\", \"Z\"], \"id\": \"el61140105669449152\", \"dasharray\": \"none\", \"alpha\": 1, \"facecolor\": \"#1F77B4\", \"edgecolor\": \"none\", \"edgewidth\": 1.0, \"zorder\": 1}, {\"data\": \"data04\", \"xindex\": 0, \"yindex\": 1, \"coordinates\": \"data\", \"pathcodes\": [\"M\", \"L\", \"L\", \"L\", \"Z\"], \"id\": \"el61140105669448648\", \"dasharray\": \"none\", \"alpha\": 1, \"facecolor\": \"#1F77B4\", \"edgecolor\": \"none\", \"edgewidth\": 1.0, \"zorder\": 1}, {\"data\": \"data05\", \"xindex\": 0, \"yindex\": 1, \"coordinates\": \"data\", \"pathcodes\": [\"M\", \"L\", \"L\", \"L\", \"Z\"], \"id\": \"el61140105674589184\", \"dasharray\": \"none\", \"alpha\": 1, \"facecolor\": \"#1F77B4\", \"edgecolor\": \"none\", \"edgewidth\": 1.0, \"zorder\": 1}, {\"data\": \"data06\", \"xindex\": 0, \"yindex\": 1, \"coordinates\": \"data\", \"pathcodes\": [\"M\", \"L\", \"L\", \"L\", \"Z\"], \"id\": \"el61140105674591536\", \"dasharray\": \"none\", \"alpha\": 1, \"facecolor\": \"#1F77B4\", \"edgecolor\": \"none\", \"edgewidth\": 1.0, \"zorder\": 1}, {\"data\": \"data07\", \"xindex\": 0, \"yindex\": 1, \"coordinates\": \"data\", \"pathcodes\": [\"M\", \"L\", \"L\", \"L\", \"Z\"], \"id\": \"el61140105674589240\", \"dasharray\": \"none\", \"alpha\": 1, \"facecolor\": \"#1F77B4\", \"edgecolor\": \"none\", \"edgewidth\": 1.0, \"zorder\": 1}, {\"data\": \"data08\", \"xindex\": 0, \"yindex\": 1, \"coordinates\": \"data\", \"pathcodes\": [\"M\", \"L\", \"L\", \"L\", \"Z\"], \"id\": \"el61140105685573584\", \"dasharray\": \"none\", \"alpha\": 1, \"facecolor\": \"#1F77B4\", \"edgecolor\": \"none\", \"edgewidth\": 1.0, \"zorder\": 1}, {\"data\": \"data09\", \"xindex\": 0, \"yindex\": 1, \"coordinates\": \"data\", \"pathcodes\": [\"M\", \"L\", \"L\", \"L\", \"Z\"], \"id\": \"el61140105683922056\", \"dasharray\": \"none\", \"alpha\": 1, \"facecolor\": \"#1F77B4\", \"edgecolor\": \"none\", \"edgewidth\": 1.0, \"zorder\": 1}, {\"data\": \"data10\", \"xindex\": 0, \"yindex\": 1, \"coordinates\": \"data\", \"pathcodes\": [\"M\", \"L\", \"L\", \"L\", \"Z\"], \"id\": \"el61140105677404256\", \"dasharray\": \"none\", \"alpha\": 1, \"facecolor\": \"#1F77B4\", \"edgecolor\": \"none\", \"edgewidth\": 1.0, \"zorder\": 1}, {\"data\": \"data11\", \"xindex\": 0, \"yindex\": 1, \"coordinates\": \"data\", \"pathcodes\": [\"M\", \"L\", \"L\", \"L\", \"Z\"], \"id\": \"el61140105661746032\", \"dasharray\": \"none\", \"alpha\": 1, \"facecolor\": \"#1F77B4\", \"edgecolor\": \"none\", \"edgewidth\": 1.0, \"zorder\": 1}, {\"data\": \"data12\", \"xindex\": 0, \"yindex\": 1, \"coordinates\": \"data\", \"pathcodes\": [\"M\", \"L\", \"L\", \"L\", \"Z\"], \"id\": \"el61140105661745696\", \"dasharray\": \"none\", \"alpha\": 1, \"facecolor\": \"#1F77B4\", \"edgecolor\": \"none\", \"edgewidth\": 1.0, \"zorder\": 1}, {\"data\": \"data13\", \"xindex\": 0, \"yindex\": 1, \"coordinates\": \"data\", \"pathcodes\": [\"M\", \"L\", \"L\", \"L\", \"Z\"], \"id\": \"el61140105661744240\", \"dasharray\": \"none\", \"alpha\": 1, \"facecolor\": \"#1F77B4\", \"edgecolor\": \"none\", \"edgewidth\": 1.0, \"zorder\": 1}, {\"data\": \"data14\", \"xindex\": 0, \"yindex\": 1, \"coordinates\": \"data\", \"pathcodes\": [\"M\", \"L\", \"L\", \"L\", \"Z\"], \"id\": \"el61140105673699112\", \"dasharray\": \"none\", \"alpha\": 1, \"facecolor\": \"#1F77B4\", \"edgecolor\": \"none\", \"edgewidth\": 1.0, \"zorder\": 1}, {\"data\": \"data15\", \"xindex\": 0, \"yindex\": 1, \"coordinates\": \"data\", \"pathcodes\": [\"M\", \"L\", \"L\", \"L\", \"Z\"], \"id\": \"el61140105673698832\", \"dasharray\": \"none\", \"alpha\": 1, \"facecolor\": \"#1F77B4\", \"edgecolor\": \"none\", \"edgewidth\": 1.0, \"zorder\": 1}, {\"data\": \"data16\", \"xindex\": 0, \"yindex\": 1, \"coordinates\": \"data\", \"pathcodes\": [\"M\", \"L\", \"L\", \"L\", \"Z\"], \"id\": \"el61140105670193728\", \"dasharray\": \"none\", \"alpha\": 1, \"facecolor\": \"#1F77B4\", \"edgecolor\": \"none\", \"edgewidth\": 1.0, \"zorder\": 1}, {\"data\": \"data17\", \"xindex\": 0, \"yindex\": 1, \"coordinates\": \"data\", \"pathcodes\": [\"M\", \"L\", \"L\", \"L\", \"Z\"], \"id\": \"el61140105685684800\", \"dasharray\": \"none\", \"alpha\": 1, \"facecolor\": \"#1F77B4\", \"edgecolor\": \"none\", \"edgewidth\": 1.0, \"zorder\": 1}, {\"data\": \"data18\", \"xindex\": 0, \"yindex\": 1, \"coordinates\": \"data\", \"pathcodes\": [\"M\", \"L\", \"L\", \"L\", \"Z\"], \"id\": \"el61140105662744728\", \"dasharray\": \"none\", \"alpha\": 1, \"facecolor\": \"#1F77B4\", \"edgecolor\": \"none\", \"edgewidth\": 1.0, \"zorder\": 1}, {\"data\": \"data19\", \"xindex\": 0, \"yindex\": 1, \"coordinates\": \"data\", \"pathcodes\": [\"M\", \"L\", \"L\", \"L\", \"Z\"], \"id\": \"el61140105662743104\", \"dasharray\": \"none\", \"alpha\": 1, \"facecolor\": \"#1F77B4\", \"edgecolor\": \"none\", \"edgewidth\": 1.0, \"zorder\": 1}, {\"data\": \"data20\", \"xindex\": 0, \"yindex\": 1, \"coordinates\": \"data\", \"pathcodes\": [\"M\", \"L\", \"L\", \"L\", \"Z\"], \"id\": \"el61140105673643904\", \"dasharray\": \"none\", \"alpha\": 1, \"facecolor\": \"#1F77B4\", \"edgecolor\": \"none\", \"edgewidth\": 1.0, \"zorder\": 1}, {\"data\": \"data21\", \"xindex\": 0, \"yindex\": 1, \"coordinates\": \"data\", \"pathcodes\": [\"M\", \"L\", \"L\", \"L\", \"Z\"], \"id\": \"el61140105673644912\", \"dasharray\": \"none\", \"alpha\": 1, \"facecolor\": \"#1F77B4\", \"edgecolor\": \"none\", \"edgewidth\": 1.0, \"zorder\": 1}, {\"data\": \"data22\", \"xindex\": 0, \"yindex\": 1, \"coordinates\": \"data\", \"pathcodes\": [\"M\", \"L\", \"L\", \"L\", \"Z\"], \"id\": \"el61140105673644632\", \"dasharray\": \"none\", \"alpha\": 1, \"facecolor\": \"#1F77B4\", \"edgecolor\": \"none\", \"edgewidth\": 1.0, \"zorder\": 1}, {\"data\": \"data23\", \"xindex\": 0, \"yindex\": 1, \"coordinates\": \"data\", \"pathcodes\": [\"M\", \"L\", \"L\", \"L\", \"Z\"], \"id\": \"el61140105673644352\", \"dasharray\": \"none\", \"alpha\": 1, \"facecolor\": \"#1F77B4\", \"edgecolor\": \"none\", \"edgewidth\": 1.0, \"zorder\": 1}, {\"data\": \"data24\", \"xindex\": 0, \"yindex\": 1, \"coordinates\": \"data\", \"pathcodes\": [\"M\", \"L\", \"L\", \"L\", \"Z\"], \"id\": \"el61140105678092384\", \"dasharray\": \"none\", \"alpha\": 1, \"facecolor\": \"#1F77B4\", \"edgecolor\": \"none\", \"edgewidth\": 1.0, \"zorder\": 1}, {\"data\": \"data25\", \"xindex\": 0, \"yindex\": 1, \"coordinates\": \"data\", \"pathcodes\": [\"M\", \"L\", \"L\", \"L\", \"Z\"], \"id\": \"el61140105687596112\", \"dasharray\": \"none\", \"alpha\": 1, \"facecolor\": \"#1F77B4\", \"edgecolor\": \"none\", \"edgewidth\": 1.0, \"zorder\": 1}, {\"data\": \"data26\", \"xindex\": 0, \"yindex\": 1, \"coordinates\": \"data\", \"pathcodes\": [\"M\", \"L\", \"L\", \"L\", \"Z\"], \"id\": \"el61140105674449304\", \"dasharray\": \"none\", \"alpha\": 1, \"facecolor\": \"#1F77B4\", \"edgecolor\": \"none\", \"edgewidth\": 1.0, \"zorder\": 1}, {\"data\": \"data27\", \"xindex\": 0, \"yindex\": 1, \"coordinates\": \"data\", \"pathcodes\": [\"M\", \"L\", \"L\", \"L\", \"Z\"], \"id\": \"el61140105674450592\", \"dasharray\": \"none\", \"alpha\": 1, \"facecolor\": \"#1F77B4\", \"edgecolor\": \"none\", \"edgewidth\": 1.0, \"zorder\": 1}, {\"data\": \"data28\", \"xindex\": 0, \"yindex\": 1, \"coordinates\": \"data\", \"pathcodes\": [\"M\", \"L\", \"L\", \"L\", \"Z\"], \"id\": \"el61140105674451656\", \"dasharray\": \"none\", \"alpha\": 1, \"facecolor\": \"#1F77B4\", \"edgecolor\": \"none\", \"edgewidth\": 1.0, \"zorder\": 1}, {\"data\": \"data29\", \"xindex\": 0, \"yindex\": 1, \"coordinates\": \"data\", \"pathcodes\": [\"M\", \"L\", \"L\", \"L\", \"Z\"], \"id\": \"el61140105674452944\", \"dasharray\": \"none\", \"alpha\": 1, \"facecolor\": \"#1F77B4\", \"edgecolor\": \"none\", \"edgewidth\": 1.0, \"zorder\": 1}, {\"data\": \"data30\", \"xindex\": 0, \"yindex\": 1, \"coordinates\": \"data\", \"pathcodes\": [\"M\", \"L\", \"L\", \"L\", \"Z\"], \"id\": \"el61140105681519560\", \"dasharray\": \"none\", \"alpha\": 1, \"facecolor\": \"#1F77B4\", \"edgecolor\": \"none\", \"edgewidth\": 1.0, \"zorder\": 1}, {\"data\": \"data31\", \"xindex\": 0, \"yindex\": 1, \"coordinates\": \"data\", \"pathcodes\": [\"M\", \"L\", \"L\", \"L\", \"Z\"], \"id\": \"el61140105661589376\", \"dasharray\": \"none\", \"alpha\": 1, \"facecolor\": \"#1F77B4\", \"edgecolor\": \"none\", \"edgewidth\": 1.0, \"zorder\": 1}, {\"data\": \"data32\", \"xindex\": 0, \"yindex\": 1, \"coordinates\": \"data\", \"pathcodes\": [\"M\", \"L\", \"L\", \"L\", \"Z\"], \"id\": \"el61140105661589824\", \"dasharray\": \"none\", \"alpha\": 1, \"facecolor\": \"#1F77B4\", \"edgecolor\": \"none\", \"edgewidth\": 1.0, \"zorder\": 1}, {\"data\": \"data33\", \"xindex\": 0, \"yindex\": 1, \"coordinates\": \"data\", \"pathcodes\": [\"M\", \"L\", \"L\", \"L\", \"Z\"], \"id\": \"el61140105662157768\", \"dasharray\": \"none\", \"alpha\": 1, \"facecolor\": \"#1F77B4\", \"edgecolor\": \"none\", \"edgewidth\": 1.0, \"zorder\": 1}, {\"data\": \"data34\", \"xindex\": 0, \"yindex\": 1, \"coordinates\": \"data\", \"pathcodes\": [\"M\", \"L\", \"L\", \"L\", \"Z\"], \"id\": \"el61140105644163648\", \"dasharray\": \"none\", \"alpha\": 1, \"facecolor\": \"#1F77B4\", \"edgecolor\": \"none\", \"edgewidth\": 1.0, \"zorder\": 1}, {\"data\": \"data34\", \"xindex\": 2, \"yindex\": 1, \"coordinates\": \"data\", \"pathcodes\": [\"M\", \"L\", \"L\", \"L\", \"Z\"], \"id\": \"el61140105644164432\", \"dasharray\": \"none\", \"alpha\": 1, \"facecolor\": \"#1F77B4\", \"edgecolor\": \"none\", \"edgewidth\": 1.0, \"zorder\": 1}, {\"data\": \"data34\", \"xindex\": 3, \"yindex\": 1, \"coordinates\": \"data\", \"pathcodes\": [\"M\", \"L\", \"L\", \"L\", \"Z\"], \"id\": \"el61140105644165272\", \"dasharray\": \"none\", \"alpha\": 1, \"facecolor\": \"#1F77B4\", \"edgecolor\": \"none\", \"edgewidth\": 1.0, \"zorder\": 1}, {\"data\": \"data02\", \"xindex\": 2, \"yindex\": 1, \"coordinates\": \"data\", \"pathcodes\": [\"M\", \"L\", \"L\", \"L\", \"Z\"], \"id\": \"el61140105644166112\", \"dasharray\": \"none\", \"alpha\": 1, \"facecolor\": \"#1F77B4\", \"edgecolor\": \"none\", \"edgewidth\": 1.0, \"zorder\": 1}, {\"data\": \"data35\", \"xindex\": 0, \"yindex\": 1, \"coordinates\": \"data\", \"pathcodes\": [\"M\", \"L\", \"L\", \"L\", \"Z\"], \"id\": \"el61140105644166952\", \"dasharray\": \"none\", \"alpha\": 1, \"facecolor\": \"#1F77B4\", \"edgecolor\": \"none\", \"edgewidth\": 1.0, \"zorder\": 1}, {\"data\": \"data34\", \"xindex\": 4, \"yindex\": 1, \"coordinates\": \"data\", \"pathcodes\": [\"M\", \"L\", \"L\", \"L\", \"Z\"], \"id\": \"el61140105667535536\", \"dasharray\": \"none\", \"alpha\": 1, \"facecolor\": \"#1F77B4\", \"edgecolor\": \"none\", \"edgewidth\": 1.0, \"zorder\": 1}], \"markers\": [], \"texts\": [], \"collections\": [], \"images\": [], \"sharex\": [], \"sharey\": []}], \"data\": {\"data01\": [[1.0, 0.0], [1.3433993325989002, 0.0], [1.3433993325989002, 2566.0], [1.0, 2566.0]], \"data02\": [[1.3433993325989002, 0.0, 41246.26382901348], [1.8047217668271702, 0.0, 55410.20330009481], [1.8047217668271702, 0.0, 55410.20330009481], [1.3433993325989002, 0.0, 41246.26382901348]], \"data03\": [[1.80472176682717, 0.0], [2.4244620170823277, 0.0], [2.4244620170823277, 1924.0], [1.80472176682717, 1924.0]], \"data04\": [[2.4244620170823286, 0.0], [3.2570206556597836, 0.0], [3.2570206556597836, 1456.0], [2.4244620170823286, 1456.0]], \"data05\": [[3.257020655659783, 0.0], [4.3754793750741845, 0.0], [4.3754793750741845, 1139.0], [3.257020655659783, 1139.0]], \"data06\": [[4.375479375074184, 0.0], [5.878016072274911, 0.0], [5.878016072274911, 1097.0], [4.375479375074184, 1097.0]], \"data07\": [[5.878016072274912, 0.0], [7.896522868499725, 0.0], [7.896522868499725, 1796.0], [5.878016072274912, 1796.0]], \"data08\": [[7.896522868499724, 0.0], [10.608183551394482, 0.0], [10.608183551394482, 2223.0], [7.896522868499724, 2223.0]], \"data09\": [[10.608183551394484, 0.0], [14.251026703029979, 0.0], [14.251026703029979, 2434.0], [10.608183551394484, 2434.0]], \"data10\": [[14.251026703029975, 0.0], [19.144819761699573, 0.0], [19.144819761699573, 2687.0], [14.251026703029975, 2687.0]], \"data11\": [[19.144819761699576, 0.0], [25.719138090593443, 0.0], [25.719138090593443, 2929.0], [19.144819761699576, 2929.0]], \"data12\": [[25.71913809059344, 0.0], [34.55107294592217, 0.0], [34.55107294592217, 3555.0], [25.71913809059344, 3555.0]], \"data13\": [[34.55107294592218, 0.0], [46.41588833612777, 0.0], [46.41588833612777, 3774.0], [34.55107294592218, 3774.0]], \"data14\": [[46.41588833612777, 0.0], [62.355073412739124, 0.0], [62.355073412739124, 3551.0], [46.41588833612777, 3551.0]], \"data15\": [[62.35507341273912, 0.0], [83.76776400682914, 0.0], [83.76776400682914, 3240.0], [62.35507341273912, 3240.0]], \"data16\": [[83.76776400682917, 0.0], [112.53355826007648, 0.0], [112.53355826007648, 2532.0], [83.76776400682917, 2532.0]], \"data17\": [[112.53355826007648, 0.0], [151.1775070615662, 0.0], [151.1775070615662, 1780.0], [112.53355826007648, 1780.0]], \"data18\": [[151.1775070615662, 0.0], [203.0917620904735, 0.0], [203.0917620904735, 1152.0], [151.1775070615662, 1152.0]], \"data19\": [[203.09176209047348, 0.0], [272.83333764867666, 0.0], [272.83333764867666, 742.0], [203.09176209047348, 742.0]], \"data20\": [[272.83333764867666, 0.0], [366.5241237079626, 0.0], [366.5241237079626, 474.0], [272.83333764867666, 474.0]], \"data21\": [[366.52412370796253, 0.0], [492.3882631706736, 0.0], [492.3882631706736, 326.0], [366.52412370796253, 326.0]], \"data22\": [[492.3882631706737, 0.0], [661.4740641230146, 0.0], [661.4740641230146, 205.0], [492.3882631706737, 205.0]], \"data23\": [[661.4740641230146, 0.0], [888.6238162743398, 0.0], [888.6238162743398, 118.0], [661.4740641230146, 118.0]], \"data24\": [[888.6238162743398, 0.0], [1193.7766417144358, 0.0], [1193.7766417144358, 97.0], [888.6238162743398, 97.0]], \"data25\": [[1193.7766417144358, 0.0], [1603.7187437513294, 0.0], [1603.7187437513294, 69.0], [1193.7766417144358, 69.0]], \"data26\": [[1603.7187437513294, 0.0], [2154.4346900318824, 0.0], [2154.4346900318824, 48.0], [1603.7187437513294, 48.0]], \"data27\": [[2154.4346900318824, 0.0], [2894.266124716749, 0.0], [2894.266124716749, 26.0], [2154.4346900318824, 26.0]], \"data28\": [[2894.266124716749, 0.0], [3888.155180308085, 0.0], [3888.155180308085, 14.0], [2894.266124716749, 14.0]], \"data29\": [[3888.1551803080847, 0.0], [5223.345074266837, 0.0], [5223.345074266837, 15.0], [3888.1551803080847, 15.0]], \"data30\": [[5223.345074266837, 0.0], [7017.0382867038215, 0.0], [7017.0382867038215, 13.0], [5223.345074266837, 13.0]], \"data31\": [[7017.038286703823, 0.0], [9426.684551178845, 0.0], [9426.684551178845, 3.0], [7017.038286703823, 3.0]], \"data32\": [[9426.684551178845, 0.0], [12663.801734674022, 0.0], [12663.801734674022, 4.0], [9426.684551178845, 4.0]], \"data33\": [[12663.801734674023, 0.0], [17012.542798525858, 0.0], [17012.542798525858, 5.0], [12663.801734674023, 5.0]], \"data34\": [[17012.542798525858, 0.0, 22854.638641349884, 30702.906297578502, 74438.03013251681], [22854.638641349884, 0.0, 30702.9062975785, 41246.26382901348, 100000.0], [22854.638641349884, 1.0, 30702.9062975785, 41246.26382901348, 100000.0], [17012.542798525858, 1.0, 22854.638641349884, 30702.906297578502, 74438.03013251681]], \"data35\": [[55410.203300094814, 0.0], [74438.03013251681, 0.0], [74438.03013251681, 2.0], [55410.203300094814, 2.0]]}, \"id\": \"el61140105672491584\", \"plugins\": [{\"type\": \"reset\"}, {\"type\": \"zoom\", \"button\": true, \"enabled\": false}, {\"type\": \"boxzoom\", \"button\": true, \"enabled\": false}]});\n",
              "      });\n",
              "    });\n",
              "}else{\n",
              "    // require.js not available: dynamically load d3 & mpld3\n",
              "    mpld3_load_lib(\"https://d3js.org/d3.v5.js\", function(){\n",
              "         mpld3_load_lib(\"https://mpld3.github.io/js/mpld3.v0.5.2.js\", function(){\n",
              "                 \n",
              "                 mpld3.draw_figure(\"fig_el611401056724915848541925055\", {\"width\": 792.0, \"height\": 576.0, \"axes\": [{\"bbox\": [0.125, 0.125, 0.775, 0.755], \"xlim\": [-4998.950000000001, 104999.95], \"ylim\": [0.0, 3962.7], \"xdomain\": [-4998.950000000001, 104999.95], \"ydomain\": [0.0, 3962.7], \"xscale\": \"linear\", \"yscale\": \"linear\", \"axes\": [{\"position\": \"bottom\", \"nticks\": 8, \"tickvalues\": null, \"tickformat_formatter\": \"\", \"tickformat\": null, \"scale\": \"linear\", \"fontsize\": 10.0, \"grid\": {\"gridOn\": false}, \"visible\": true}, {\"position\": \"left\", \"nticks\": 9, \"tickvalues\": null, \"tickformat_formatter\": \"\", \"tickformat\": null, \"scale\": \"linear\", \"fontsize\": 10.0, \"grid\": {\"gridOn\": false}, \"visible\": true}], \"axesbg\": \"#FFFFFF\", \"axesbgalpha\": null, \"zoomable\": true, \"id\": \"el61140105675441488\", \"lines\": [], \"paths\": [{\"data\": \"data01\", \"xindex\": 0, \"yindex\": 1, \"coordinates\": \"data\", \"pathcodes\": [\"M\", \"L\", \"L\", \"L\", \"Z\"], \"id\": \"el61140105669450048\", \"dasharray\": \"none\", \"alpha\": 1, \"facecolor\": \"#1F77B4\", \"edgecolor\": \"none\", \"edgewidth\": 1.0, \"zorder\": 1}, {\"data\": \"data02\", \"xindex\": 0, \"yindex\": 1, \"coordinates\": \"data\", \"pathcodes\": [\"M\", \"L\", \"L\", \"L\", \"Z\"], \"id\": \"el61140105669451616\", \"dasharray\": \"none\", \"alpha\": 1, \"facecolor\": \"#1F77B4\", \"edgecolor\": \"none\", \"edgewidth\": 1.0, \"zorder\": 1}, {\"data\": \"data03\", \"xindex\": 0, \"yindex\": 1, \"coordinates\": \"data\", \"pathcodes\": [\"M\", \"L\", \"L\", \"L\", \"Z\"], \"id\": \"el61140105669449152\", \"dasharray\": \"none\", \"alpha\": 1, \"facecolor\": \"#1F77B4\", \"edgecolor\": \"none\", \"edgewidth\": 1.0, \"zorder\": 1}, {\"data\": \"data04\", \"xindex\": 0, \"yindex\": 1, \"coordinates\": \"data\", \"pathcodes\": [\"M\", \"L\", \"L\", \"L\", \"Z\"], \"id\": \"el61140105669448648\", \"dasharray\": \"none\", \"alpha\": 1, \"facecolor\": \"#1F77B4\", \"edgecolor\": \"none\", \"edgewidth\": 1.0, \"zorder\": 1}, {\"data\": \"data05\", \"xindex\": 0, \"yindex\": 1, \"coordinates\": \"data\", \"pathcodes\": [\"M\", \"L\", \"L\", \"L\", \"Z\"], \"id\": \"el61140105674589184\", \"dasharray\": \"none\", \"alpha\": 1, \"facecolor\": \"#1F77B4\", \"edgecolor\": \"none\", \"edgewidth\": 1.0, \"zorder\": 1}, {\"data\": \"data06\", \"xindex\": 0, \"yindex\": 1, \"coordinates\": \"data\", \"pathcodes\": [\"M\", \"L\", \"L\", \"L\", \"Z\"], \"id\": \"el61140105674591536\", \"dasharray\": \"none\", \"alpha\": 1, \"facecolor\": \"#1F77B4\", \"edgecolor\": \"none\", \"edgewidth\": 1.0, \"zorder\": 1}, {\"data\": \"data07\", \"xindex\": 0, \"yindex\": 1, \"coordinates\": \"data\", \"pathcodes\": [\"M\", \"L\", \"L\", \"L\", \"Z\"], \"id\": \"el61140105674589240\", \"dasharray\": \"none\", \"alpha\": 1, \"facecolor\": \"#1F77B4\", \"edgecolor\": \"none\", \"edgewidth\": 1.0, \"zorder\": 1}, {\"data\": \"data08\", \"xindex\": 0, \"yindex\": 1, \"coordinates\": \"data\", \"pathcodes\": [\"M\", \"L\", \"L\", \"L\", \"Z\"], \"id\": \"el61140105685573584\", \"dasharray\": \"none\", \"alpha\": 1, \"facecolor\": \"#1F77B4\", \"edgecolor\": \"none\", \"edgewidth\": 1.0, \"zorder\": 1}, {\"data\": \"data09\", \"xindex\": 0, \"yindex\": 1, \"coordinates\": \"data\", \"pathcodes\": [\"M\", \"L\", \"L\", \"L\", \"Z\"], \"id\": \"el61140105683922056\", \"dasharray\": \"none\", \"alpha\": 1, \"facecolor\": \"#1F77B4\", \"edgecolor\": \"none\", \"edgewidth\": 1.0, \"zorder\": 1}, {\"data\": \"data10\", \"xindex\": 0, \"yindex\": 1, \"coordinates\": \"data\", \"pathcodes\": [\"M\", \"L\", \"L\", \"L\", \"Z\"], \"id\": \"el61140105677404256\", \"dasharray\": \"none\", \"alpha\": 1, \"facecolor\": \"#1F77B4\", \"edgecolor\": \"none\", \"edgewidth\": 1.0, \"zorder\": 1}, {\"data\": \"data11\", \"xindex\": 0, \"yindex\": 1, \"coordinates\": \"data\", \"pathcodes\": [\"M\", \"L\", \"L\", \"L\", \"Z\"], \"id\": \"el61140105661746032\", \"dasharray\": \"none\", \"alpha\": 1, \"facecolor\": \"#1F77B4\", \"edgecolor\": \"none\", \"edgewidth\": 1.0, \"zorder\": 1}, {\"data\": \"data12\", \"xindex\": 0, \"yindex\": 1, \"coordinates\": \"data\", \"pathcodes\": [\"M\", \"L\", \"L\", \"L\", \"Z\"], \"id\": \"el61140105661745696\", \"dasharray\": \"none\", \"alpha\": 1, \"facecolor\": \"#1F77B4\", \"edgecolor\": \"none\", \"edgewidth\": 1.0, \"zorder\": 1}, {\"data\": \"data13\", \"xindex\": 0, \"yindex\": 1, \"coordinates\": \"data\", \"pathcodes\": [\"M\", \"L\", \"L\", \"L\", \"Z\"], \"id\": \"el61140105661744240\", \"dasharray\": \"none\", \"alpha\": 1, \"facecolor\": \"#1F77B4\", \"edgecolor\": \"none\", \"edgewidth\": 1.0, \"zorder\": 1}, {\"data\": \"data14\", \"xindex\": 0, \"yindex\": 1, \"coordinates\": \"data\", \"pathcodes\": [\"M\", \"L\", \"L\", \"L\", \"Z\"], \"id\": \"el61140105673699112\", \"dasharray\": \"none\", \"alpha\": 1, \"facecolor\": \"#1F77B4\", \"edgecolor\": \"none\", \"edgewidth\": 1.0, \"zorder\": 1}, {\"data\": \"data15\", \"xindex\": 0, \"yindex\": 1, \"coordinates\": \"data\", \"pathcodes\": [\"M\", \"L\", \"L\", \"L\", \"Z\"], \"id\": \"el61140105673698832\", \"dasharray\": \"none\", \"alpha\": 1, \"facecolor\": \"#1F77B4\", \"edgecolor\": \"none\", \"edgewidth\": 1.0, \"zorder\": 1}, {\"data\": \"data16\", \"xindex\": 0, \"yindex\": 1, \"coordinates\": \"data\", \"pathcodes\": [\"M\", \"L\", \"L\", \"L\", \"Z\"], \"id\": \"el61140105670193728\", \"dasharray\": \"none\", \"alpha\": 1, \"facecolor\": \"#1F77B4\", \"edgecolor\": \"none\", \"edgewidth\": 1.0, \"zorder\": 1}, {\"data\": \"data17\", \"xindex\": 0, \"yindex\": 1, \"coordinates\": \"data\", \"pathcodes\": [\"M\", \"L\", \"L\", \"L\", \"Z\"], \"id\": \"el61140105685684800\", \"dasharray\": \"none\", \"alpha\": 1, \"facecolor\": \"#1F77B4\", \"edgecolor\": \"none\", \"edgewidth\": 1.0, \"zorder\": 1}, {\"data\": \"data18\", \"xindex\": 0, \"yindex\": 1, \"coordinates\": \"data\", \"pathcodes\": [\"M\", \"L\", \"L\", \"L\", \"Z\"], \"id\": \"el61140105662744728\", \"dasharray\": \"none\", \"alpha\": 1, \"facecolor\": \"#1F77B4\", \"edgecolor\": \"none\", \"edgewidth\": 1.0, \"zorder\": 1}, {\"data\": \"data19\", \"xindex\": 0, \"yindex\": 1, \"coordinates\": \"data\", \"pathcodes\": [\"M\", \"L\", \"L\", \"L\", \"Z\"], \"id\": \"el61140105662743104\", \"dasharray\": \"none\", \"alpha\": 1, \"facecolor\": \"#1F77B4\", \"edgecolor\": \"none\", \"edgewidth\": 1.0, \"zorder\": 1}, {\"data\": \"data20\", \"xindex\": 0, \"yindex\": 1, \"coordinates\": \"data\", \"pathcodes\": [\"M\", \"L\", \"L\", \"L\", \"Z\"], \"id\": \"el61140105673643904\", \"dasharray\": \"none\", \"alpha\": 1, \"facecolor\": \"#1F77B4\", \"edgecolor\": \"none\", \"edgewidth\": 1.0, \"zorder\": 1}, {\"data\": \"data21\", \"xindex\": 0, \"yindex\": 1, \"coordinates\": \"data\", \"pathcodes\": [\"M\", \"L\", \"L\", \"L\", \"Z\"], \"id\": \"el61140105673644912\", \"dasharray\": \"none\", \"alpha\": 1, \"facecolor\": \"#1F77B4\", \"edgecolor\": \"none\", \"edgewidth\": 1.0, \"zorder\": 1}, {\"data\": \"data22\", \"xindex\": 0, \"yindex\": 1, \"coordinates\": \"data\", \"pathcodes\": [\"M\", \"L\", \"L\", \"L\", \"Z\"], \"id\": \"el61140105673644632\", \"dasharray\": \"none\", \"alpha\": 1, \"facecolor\": \"#1F77B4\", \"edgecolor\": \"none\", \"edgewidth\": 1.0, \"zorder\": 1}, {\"data\": \"data23\", \"xindex\": 0, \"yindex\": 1, \"coordinates\": \"data\", \"pathcodes\": [\"M\", \"L\", \"L\", \"L\", \"Z\"], \"id\": \"el61140105673644352\", \"dasharray\": \"none\", \"alpha\": 1, \"facecolor\": \"#1F77B4\", \"edgecolor\": \"none\", \"edgewidth\": 1.0, \"zorder\": 1}, {\"data\": \"data24\", \"xindex\": 0, \"yindex\": 1, \"coordinates\": \"data\", \"pathcodes\": [\"M\", \"L\", \"L\", \"L\", \"Z\"], \"id\": \"el61140105678092384\", \"dasharray\": \"none\", \"alpha\": 1, \"facecolor\": \"#1F77B4\", \"edgecolor\": \"none\", \"edgewidth\": 1.0, \"zorder\": 1}, {\"data\": \"data25\", \"xindex\": 0, \"yindex\": 1, \"coordinates\": \"data\", \"pathcodes\": [\"M\", \"L\", \"L\", \"L\", \"Z\"], \"id\": \"el61140105687596112\", \"dasharray\": \"none\", \"alpha\": 1, \"facecolor\": \"#1F77B4\", \"edgecolor\": \"none\", \"edgewidth\": 1.0, \"zorder\": 1}, {\"data\": \"data26\", \"xindex\": 0, \"yindex\": 1, \"coordinates\": \"data\", \"pathcodes\": [\"M\", \"L\", \"L\", \"L\", \"Z\"], \"id\": \"el61140105674449304\", \"dasharray\": \"none\", \"alpha\": 1, \"facecolor\": \"#1F77B4\", \"edgecolor\": \"none\", \"edgewidth\": 1.0, \"zorder\": 1}, {\"data\": \"data27\", \"xindex\": 0, \"yindex\": 1, \"coordinates\": \"data\", \"pathcodes\": [\"M\", \"L\", \"L\", \"L\", \"Z\"], \"id\": \"el61140105674450592\", \"dasharray\": \"none\", \"alpha\": 1, \"facecolor\": \"#1F77B4\", \"edgecolor\": \"none\", \"edgewidth\": 1.0, \"zorder\": 1}, {\"data\": \"data28\", \"xindex\": 0, \"yindex\": 1, \"coordinates\": \"data\", \"pathcodes\": [\"M\", \"L\", \"L\", \"L\", \"Z\"], \"id\": \"el61140105674451656\", \"dasharray\": \"none\", \"alpha\": 1, \"facecolor\": \"#1F77B4\", \"edgecolor\": \"none\", \"edgewidth\": 1.0, \"zorder\": 1}, {\"data\": \"data29\", \"xindex\": 0, \"yindex\": 1, \"coordinates\": \"data\", \"pathcodes\": [\"M\", \"L\", \"L\", \"L\", \"Z\"], \"id\": \"el61140105674452944\", \"dasharray\": \"none\", \"alpha\": 1, \"facecolor\": \"#1F77B4\", \"edgecolor\": \"none\", \"edgewidth\": 1.0, \"zorder\": 1}, {\"data\": \"data30\", \"xindex\": 0, \"yindex\": 1, \"coordinates\": \"data\", \"pathcodes\": [\"M\", \"L\", \"L\", \"L\", \"Z\"], \"id\": \"el61140105681519560\", \"dasharray\": \"none\", \"alpha\": 1, \"facecolor\": \"#1F77B4\", \"edgecolor\": \"none\", \"edgewidth\": 1.0, \"zorder\": 1}, {\"data\": \"data31\", \"xindex\": 0, \"yindex\": 1, \"coordinates\": \"data\", \"pathcodes\": [\"M\", \"L\", \"L\", \"L\", \"Z\"], \"id\": \"el61140105661589376\", \"dasharray\": \"none\", \"alpha\": 1, \"facecolor\": \"#1F77B4\", \"edgecolor\": \"none\", \"edgewidth\": 1.0, \"zorder\": 1}, {\"data\": \"data32\", \"xindex\": 0, \"yindex\": 1, \"coordinates\": \"data\", \"pathcodes\": [\"M\", \"L\", \"L\", \"L\", \"Z\"], \"id\": \"el61140105661589824\", \"dasharray\": \"none\", \"alpha\": 1, \"facecolor\": \"#1F77B4\", \"edgecolor\": \"none\", \"edgewidth\": 1.0, \"zorder\": 1}, {\"data\": \"data33\", \"xindex\": 0, \"yindex\": 1, \"coordinates\": \"data\", \"pathcodes\": [\"M\", \"L\", \"L\", \"L\", \"Z\"], \"id\": \"el61140105662157768\", \"dasharray\": \"none\", \"alpha\": 1, \"facecolor\": \"#1F77B4\", \"edgecolor\": \"none\", \"edgewidth\": 1.0, \"zorder\": 1}, {\"data\": \"data34\", \"xindex\": 0, \"yindex\": 1, \"coordinates\": \"data\", \"pathcodes\": [\"M\", \"L\", \"L\", \"L\", \"Z\"], \"id\": \"el61140105644163648\", \"dasharray\": \"none\", \"alpha\": 1, \"facecolor\": \"#1F77B4\", \"edgecolor\": \"none\", \"edgewidth\": 1.0, \"zorder\": 1}, {\"data\": \"data34\", \"xindex\": 2, \"yindex\": 1, \"coordinates\": \"data\", \"pathcodes\": [\"M\", \"L\", \"L\", \"L\", \"Z\"], \"id\": \"el61140105644164432\", \"dasharray\": \"none\", \"alpha\": 1, \"facecolor\": \"#1F77B4\", \"edgecolor\": \"none\", \"edgewidth\": 1.0, \"zorder\": 1}, {\"data\": \"data34\", \"xindex\": 3, \"yindex\": 1, \"coordinates\": \"data\", \"pathcodes\": [\"M\", \"L\", \"L\", \"L\", \"Z\"], \"id\": \"el61140105644165272\", \"dasharray\": \"none\", \"alpha\": 1, \"facecolor\": \"#1F77B4\", \"edgecolor\": \"none\", \"edgewidth\": 1.0, \"zorder\": 1}, {\"data\": \"data02\", \"xindex\": 2, \"yindex\": 1, \"coordinates\": \"data\", \"pathcodes\": [\"M\", \"L\", \"L\", \"L\", \"Z\"], \"id\": \"el61140105644166112\", \"dasharray\": \"none\", \"alpha\": 1, \"facecolor\": \"#1F77B4\", \"edgecolor\": \"none\", \"edgewidth\": 1.0, \"zorder\": 1}, {\"data\": \"data35\", \"xindex\": 0, \"yindex\": 1, \"coordinates\": \"data\", \"pathcodes\": [\"M\", \"L\", \"L\", \"L\", \"Z\"], \"id\": \"el61140105644166952\", \"dasharray\": \"none\", \"alpha\": 1, \"facecolor\": \"#1F77B4\", \"edgecolor\": \"none\", \"edgewidth\": 1.0, \"zorder\": 1}, {\"data\": \"data34\", \"xindex\": 4, \"yindex\": 1, \"coordinates\": \"data\", \"pathcodes\": [\"M\", \"L\", \"L\", \"L\", \"Z\"], \"id\": \"el61140105667535536\", \"dasharray\": \"none\", \"alpha\": 1, \"facecolor\": \"#1F77B4\", \"edgecolor\": \"none\", \"edgewidth\": 1.0, \"zorder\": 1}], \"markers\": [], \"texts\": [], \"collections\": [], \"images\": [], \"sharex\": [], \"sharey\": []}], \"data\": {\"data01\": [[1.0, 0.0], [1.3433993325989002, 0.0], [1.3433993325989002, 2566.0], [1.0, 2566.0]], \"data02\": [[1.3433993325989002, 0.0, 41246.26382901348], [1.8047217668271702, 0.0, 55410.20330009481], [1.8047217668271702, 0.0, 55410.20330009481], [1.3433993325989002, 0.0, 41246.26382901348]], \"data03\": [[1.80472176682717, 0.0], [2.4244620170823277, 0.0], [2.4244620170823277, 1924.0], [1.80472176682717, 1924.0]], \"data04\": [[2.4244620170823286, 0.0], [3.2570206556597836, 0.0], [3.2570206556597836, 1456.0], [2.4244620170823286, 1456.0]], \"data05\": [[3.257020655659783, 0.0], [4.3754793750741845, 0.0], [4.3754793750741845, 1139.0], [3.257020655659783, 1139.0]], \"data06\": [[4.375479375074184, 0.0], [5.878016072274911, 0.0], [5.878016072274911, 1097.0], [4.375479375074184, 1097.0]], \"data07\": [[5.878016072274912, 0.0], [7.896522868499725, 0.0], [7.896522868499725, 1796.0], [5.878016072274912, 1796.0]], \"data08\": [[7.896522868499724, 0.0], [10.608183551394482, 0.0], [10.608183551394482, 2223.0], [7.896522868499724, 2223.0]], \"data09\": [[10.608183551394484, 0.0], [14.251026703029979, 0.0], [14.251026703029979, 2434.0], [10.608183551394484, 2434.0]], \"data10\": [[14.251026703029975, 0.0], [19.144819761699573, 0.0], [19.144819761699573, 2687.0], [14.251026703029975, 2687.0]], \"data11\": [[19.144819761699576, 0.0], [25.719138090593443, 0.0], [25.719138090593443, 2929.0], [19.144819761699576, 2929.0]], \"data12\": [[25.71913809059344, 0.0], [34.55107294592217, 0.0], [34.55107294592217, 3555.0], [25.71913809059344, 3555.0]], \"data13\": [[34.55107294592218, 0.0], [46.41588833612777, 0.0], [46.41588833612777, 3774.0], [34.55107294592218, 3774.0]], \"data14\": [[46.41588833612777, 0.0], [62.355073412739124, 0.0], [62.355073412739124, 3551.0], [46.41588833612777, 3551.0]], \"data15\": [[62.35507341273912, 0.0], [83.76776400682914, 0.0], [83.76776400682914, 3240.0], [62.35507341273912, 3240.0]], \"data16\": [[83.76776400682917, 0.0], [112.53355826007648, 0.0], [112.53355826007648, 2532.0], [83.76776400682917, 2532.0]], \"data17\": [[112.53355826007648, 0.0], [151.1775070615662, 0.0], [151.1775070615662, 1780.0], [112.53355826007648, 1780.0]], \"data18\": [[151.1775070615662, 0.0], [203.0917620904735, 0.0], [203.0917620904735, 1152.0], [151.1775070615662, 1152.0]], \"data19\": [[203.09176209047348, 0.0], [272.83333764867666, 0.0], [272.83333764867666, 742.0], [203.09176209047348, 742.0]], \"data20\": [[272.83333764867666, 0.0], [366.5241237079626, 0.0], [366.5241237079626, 474.0], [272.83333764867666, 474.0]], \"data21\": [[366.52412370796253, 0.0], [492.3882631706736, 0.0], [492.3882631706736, 326.0], [366.52412370796253, 326.0]], \"data22\": [[492.3882631706737, 0.0], [661.4740641230146, 0.0], [661.4740641230146, 205.0], [492.3882631706737, 205.0]], \"data23\": [[661.4740641230146, 0.0], [888.6238162743398, 0.0], [888.6238162743398, 118.0], [661.4740641230146, 118.0]], \"data24\": [[888.6238162743398, 0.0], [1193.7766417144358, 0.0], [1193.7766417144358, 97.0], [888.6238162743398, 97.0]], \"data25\": [[1193.7766417144358, 0.0], [1603.7187437513294, 0.0], [1603.7187437513294, 69.0], [1193.7766417144358, 69.0]], \"data26\": [[1603.7187437513294, 0.0], [2154.4346900318824, 0.0], [2154.4346900318824, 48.0], [1603.7187437513294, 48.0]], \"data27\": [[2154.4346900318824, 0.0], [2894.266124716749, 0.0], [2894.266124716749, 26.0], [2154.4346900318824, 26.0]], \"data28\": [[2894.266124716749, 0.0], [3888.155180308085, 0.0], [3888.155180308085, 14.0], [2894.266124716749, 14.0]], \"data29\": [[3888.1551803080847, 0.0], [5223.345074266837, 0.0], [5223.345074266837, 15.0], [3888.1551803080847, 15.0]], \"data30\": [[5223.345074266837, 0.0], [7017.0382867038215, 0.0], [7017.0382867038215, 13.0], [5223.345074266837, 13.0]], \"data31\": [[7017.038286703823, 0.0], [9426.684551178845, 0.0], [9426.684551178845, 3.0], [7017.038286703823, 3.0]], \"data32\": [[9426.684551178845, 0.0], [12663.801734674022, 0.0], [12663.801734674022, 4.0], [9426.684551178845, 4.0]], \"data33\": [[12663.801734674023, 0.0], [17012.542798525858, 0.0], [17012.542798525858, 5.0], [12663.801734674023, 5.0]], \"data34\": [[17012.542798525858, 0.0, 22854.638641349884, 30702.906297578502, 74438.03013251681], [22854.638641349884, 0.0, 30702.9062975785, 41246.26382901348, 100000.0], [22854.638641349884, 1.0, 30702.9062975785, 41246.26382901348, 100000.0], [17012.542798525858, 1.0, 22854.638641349884, 30702.906297578502, 74438.03013251681]], \"data35\": [[55410.203300094814, 0.0], [74438.03013251681, 0.0], [74438.03013251681, 2.0], [55410.203300094814, 2.0]]}, \"id\": \"el61140105672491584\", \"plugins\": [{\"type\": \"reset\"}, {\"type\": \"zoom\", \"button\": true, \"enabled\": false}, {\"type\": \"boxzoom\", \"button\": true, \"enabled\": false}]});\n",
              "            })\n",
              "         });\n",
              "}\n",
              "</script>"
            ],
            "text/plain": [
              "<IPython.core.display.HTML object>"
            ]
          },
          "metadata": {
            "tags": []
          },
          "execution_count": 153
        }
      ]
    },
    {
      "cell_type": "code",
      "metadata": {
        "colab": {
          "base_uri": "https://localhost:8080/"
        },
        "id": "3-OBvVL_qgxL",
        "outputId": "52061ad2-e33d-4026-e7be-c2a9f721871e"
      },
      "source": [
        "from scipy.stats import skew,kurtosis\n",
        "skew(ks.backers)"
      ],
      "execution_count": 154,
      "outputs": [
        {
          "output_type": "execute_result",
          "data": {
            "text/plain": [
              "87.88721924727078"
            ]
          },
          "metadata": {
            "tags": []
          },
          "execution_count": 154
        }
      ]
    },
    {
      "cell_type": "markdown",
      "metadata": {
        "id": "0_K63DqE1UBB"
      },
      "source": [
        "# ML modeling"
      ]
    },
    {
      "cell_type": "code",
      "metadata": {
        "id": "bByo2tlugyBn"
      },
      "source": [
        "from sklearn.preprocessing import OneHotEncoder\n",
        "\n",
        "ks_cat = ks[['category']]\n",
        "## one-hot encoding\n",
        "cat_cols=['category']\n",
        "enconding = OneHotEncoder(handle_unknown='ignore', sparse=False)\n",
        "enconding.fit(ks_cat)\n",
        "ks_cat_enc = pd.DataFrame(enconding.transform(ks_cat))\n",
        "\n",
        "## add back column names\n",
        "ks_cat_enc.columns = enconding.get_feature_names(cat_cols)"
      ],
      "execution_count": null,
      "outputs": []
    },
    {
      "cell_type": "code",
      "metadata": {
        "id": "GzIOIZvLmkHb"
      },
      "source": [
        "ks = ks.reset_index().drop(columns=['index'])\n"
      ],
      "execution_count": null,
      "outputs": []
    },
    {
      "cell_type": "code",
      "metadata": {
        "id": "02ipXF3jmJzl"
      },
      "source": [
        "ks = pd.concat([ks, ks_cat_enc], axis=1)"
      ],
      "execution_count": null,
      "outputs": []
    },
    {
      "cell_type": "code",
      "metadata": {
        "id": "GOhg1tDthnGg"
      },
      "source": [
        "ks = ks.drop(columns=['name','category','funded percentage','launched','month','weekend'])"
      ],
      "execution_count": null,
      "outputs": []
    },
    {
      "cell_type": "code",
      "metadata": {
        "colab": {
          "base_uri": "https://localhost:8080/",
          "height": 608
        },
        "id": "G3-z94O-6hAn",
        "outputId": "f48e627f-1a02-4c6f-b75b-7212a48d624d"
      },
      "source": [
        "# calculate kendall correlations\n",
        "corrs = ks[['status','goal','duration','doy']].corr(method='kendall')\n",
        "\n",
        "# clustered heatmap\n",
        "sns.clustermap(corrs, cmap='coolwarm', center=0, figsize=(10,10), cbar_pos=(-0.05, 0.8, 0.05, 0.18));"
      ],
      "execution_count": null,
      "outputs": [
        {
          "output_type": "display_data",
          "data": {
            "image/png": "[encoded data removed]",
            "text/plain": [
              "<Figure size 720x720 with 4 Axes>"
            ]
          },
          "metadata": {
            "tags": [],
            "needs_background": "light"
          }
        }
      ]
    },
    {
      "cell_type": "code",
      "metadata": {
        "id": "FpiMfFZgCvhZ"
      },
      "source": [
        ""
      ],
      "execution_count": null,
      "outputs": []
    },
    {
      "cell_type": "code",
      "metadata": {
        "id": "Yo2AB4T9C8BL"
      },
      "source": [
        "from sklearn.model_selection import train_test_split\n",
        "from sklearn.ensemble import RandomForestClassifier\n",
        "from sklearn.metrics import accuracy_score, confusion_matrix, classification_report\n",
        "\n",
        "## define predictors and label \n",
        "label = ks.status\n",
        "features = [c for c in ks.columns if c not in [\"status\"]]\n",
        "\n",
        "## prepare training and testing dataset\n",
        "X_train, X_test, y_train, y_test = train_test_split(ks[features], label, test_size = 0.2, random_state = 2)\n",
        "\n",
        "## train a random forest classifier \n",
        "model = RandomForestClassifier(n_estimators=50, random_state=0).fit(X_train, y_train)\n",
        "y_pred = model.predict(X_test)"
      ],
      "execution_count": null,
      "outputs": []
    },
    {
      "cell_type": "code",
      "metadata": {
        "colab": {
          "base_uri": "https://localhost:8080/"
        },
        "id": "fo66UVw4KOTi",
        "outputId": "72070a14-b5de-460c-e94c-ea78c6165dad"
      },
      "source": [
        "# View accuracy score\n",
        "accuracy_score(y_test, y_pred)"
      ],
      "execution_count": null,
      "outputs": [
        {
          "output_type": "execute_result",
          "data": {
            "text/plain": [
              "0.9998808530918623"
            ]
          },
          "metadata": {
            "tags": []
          },
          "execution_count": 31
        }
      ]
    },
    {
      "cell_type": "code",
      "metadata": {
        "colab": {
          "base_uri": "https://localhost:8080/"
        },
        "id": "jDvZGP0qWJJo",
        "outputId": "6244f77f-8897-411b-ab09-518b8c6d8590"
      },
      "source": [
        "# View confusion matrix for test data and predictions\n",
        "confusion_matrix(y_test, y_pred)"
      ],
      "execution_count": null,
      "outputs": [
        {
          "output_type": "execute_result",
          "data": {
            "text/plain": [
              "array([[3805,    1],\n",
              "       [   0, 4587]])"
            ]
          },
          "metadata": {
            "tags": []
          },
          "execution_count": 32
        }
      ]
    },
    {
      "cell_type": "code",
      "metadata": {
        "colab": {
          "base_uri": "https://localhost:8080/"
        },
        "id": "A6OQVHIdO_CC",
        "outputId": "2aac72f1-2cdf-43b7-b380-aa78dea3499e"
      },
      "source": [
        "# evaluate nlp\n",
        "from sklearn.metrics import classification_report\n",
        "\n",
        "print(classification_report(y_test, y_pred))"
      ],
      "execution_count": null,
      "outputs": [
        {
          "output_type": "stream",
          "text": [
            "              precision    recall  f1-score   support\n",
            "\n",
            "           0       1.00      1.00      1.00      3806\n",
            "           1       1.00      1.00      1.00      4587\n",
            "\n",
            "    accuracy                           1.00      8393\n",
            "   macro avg       1.00      1.00      1.00      8393\n",
            "weighted avg       1.00      1.00      1.00      8393\n",
            "\n"
          ],
          "name": "stdout"
        }
      ]
    },
    {
      "cell_type": "code",
      "metadata": {
        "id": "6k60ftqgSTvk"
      },
      "source": [
        "model.predict?"
      ],
      "execution_count": null,
      "outputs": []
    },
    {
      "cell_type": "code",
      "metadata": {
        "colab": {
          "base_uri": "https://localhost:8080/"
        },
        "id": "iauF38ic6gpq",
        "outputId": "a77d70dc-fc87-47b0-ddee-cb3ab15c318e"
      },
      "source": [
        "features"
      ],
      "execution_count": null,
      "outputs": [
        {
          "output_type": "execute_result",
          "data": {
            "text/plain": [
              "['goal',\n",
              " 'pledged',\n",
              " 'backers',\n",
              " 'levels',\n",
              " 'updates',\n",
              " 'comments',\n",
              " 'duration',\n",
              " 'hour',\n",
              " 'doy',\n",
              " 'day',\n",
              " 'year',\n",
              " 'name_length',\n",
              " 'fraction_goal',\n",
              " 'category_Art',\n",
              " 'category_Comics',\n",
              " 'category_Dance',\n",
              " 'category_Design',\n",
              " 'category_Fashion',\n",
              " 'category_Film & Video',\n",
              " 'category_Food',\n",
              " 'category_Games',\n",
              " 'category_Music',\n",
              " 'category_Photography',\n",
              " 'category_Publishing',\n",
              " 'category_Technology',\n",
              " 'category_Theater']"
            ]
          },
          "metadata": {
            "tags": []
          },
          "execution_count": 35
        }
      ]
    },
    {
      "cell_type": "code",
      "metadata": {
        "id": "x9cwTEvb6miG"
      },
      "source": [
        ""
      ],
      "execution_count": null,
      "outputs": []
    }
  ]
}